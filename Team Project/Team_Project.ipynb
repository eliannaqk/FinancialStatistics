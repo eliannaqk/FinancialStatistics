{
 "cells": [
  {
   "cell_type": "markdown",
   "id": "cf0e7770",
   "metadata": {},
   "source": [
    "1. \n",
    "First need to read in the weekly returns for the 9 specified stocks from the period Jan 2005 - Dec 2009.\n",
    "Stocks are Wells Fargo, JP Morgan, Apple, Microsoft, Google, IBM, Walmart, AIG, and GE."
   ]
  },
  {
   "cell_type": "code",
   "execution_count": 205,
   "id": "9ad05f97",
   "metadata": {},
   "outputs": [],
   "source": [
    "#Need to run this command at anaconda prompt: \"$ pip3 install yfinance\"\n",
    "import arch\n",
    "from matplotlib import pyplot as plt\n",
    "import math\n",
    "import numpy as np\n",
    "import pandas as pd\n",
    "import statsmodels.api as sm\n",
    "import yfinance as yf\n"
   ]
  },
  {
   "cell_type": "code",
   "execution_count": 197,
   "id": "fe4b1943",
   "metadata": {},
   "outputs": [
    {
     "name": "stdout",
     "output_type": "stream",
     "text": [
      "[*********************100%***********************]  10 of 10 completed\n"
     ]
    }
   ],
   "source": [
    "#spx is the sp500\n",
    "data = yf.download(\n",
    "        tickers = 'wfc jpm aapl msft googl ibm wmt aig ge spy', \n",
    "        start = \"2005-01-01\", \n",
    "        end = \"2008-12-31\",\n",
    "        interval = \"1wk\",\n",
    "        group_by = 'ticker',\n",
    "        threads = True)"
   ]
  },
  {
   "cell_type": "markdown",
   "id": "3e4e7f69",
   "metadata": {},
   "source": [
    "Now lets turn this multi-index df into a regular df and looking only at AdjClose which we'll use to calculate \n",
    "the logreturn values weekly. Also, periodic NA values result from yfinance throwing in random non week ending datapoints, probably resulting from choosing Jan 1st 2005 as the starting point which was a Saturday. So, lets drop those and then calculate log returns. $$ \\textbf{Beware, running this cell twice kills the structure, so if you do, you need to run the yf.download cell again before moving on.} $$"
   ]
  },
  {
   "cell_type": "code",
   "execution_count": 198,
   "id": "f2a1ae85",
   "metadata": {},
   "outputs": [
    {
     "data": {
      "text/html": [
       "<div>\n",
       "<style scoped>\n",
       "    .dataframe tbody tr th:only-of-type {\n",
       "        vertical-align: middle;\n",
       "    }\n",
       "\n",
       "    .dataframe tbody tr th {\n",
       "        vertical-align: top;\n",
       "    }\n",
       "\n",
       "    .dataframe thead th {\n",
       "        text-align: right;\n",
       "    }\n",
       "</style>\n",
       "<table border=\"1\" class=\"dataframe\">\n",
       "  <thead>\n",
       "    <tr style=\"text-align: right;\">\n",
       "      <th></th>\n",
       "      <th>MSFT</th>\n",
       "      <th>SPY</th>\n",
       "      <th>AIG</th>\n",
       "      <th>WFC</th>\n",
       "      <th>WMT</th>\n",
       "      <th>AAPL</th>\n",
       "      <th>IBM</th>\n",
       "      <th>GE</th>\n",
       "      <th>GOOGL</th>\n",
       "      <th>JPM</th>\n",
       "    </tr>\n",
       "    <tr>\n",
       "      <th>Date</th>\n",
       "      <th></th>\n",
       "      <th></th>\n",
       "      <th></th>\n",
       "      <th></th>\n",
       "      <th></th>\n",
       "      <th></th>\n",
       "      <th></th>\n",
       "      <th></th>\n",
       "      <th></th>\n",
       "      <th></th>\n",
       "    </tr>\n",
       "  </thead>\n",
       "  <tbody>\n",
       "    <tr>\n",
       "      <th>2005-01-08</th>\n",
       "      <td>-0.020838</td>\n",
       "      <td>-0.001690</td>\n",
       "      <td>-0.021538</td>\n",
       "      <td>-0.024094</td>\n",
       "      <td>0.000000</td>\n",
       "      <td>0.013625</td>\n",
       "      <td>-0.017696</td>\n",
       "      <td>-0.013423</td>\n",
       "      <td>0.031083</td>\n",
       "      <td>-0.006761</td>\n",
       "    </tr>\n",
       "    <tr>\n",
       "      <th>2005-01-15</th>\n",
       "      <td>-0.018158</td>\n",
       "      <td>-0.012425</td>\n",
       "      <td>-0.000303</td>\n",
       "      <td>-0.009437</td>\n",
       "      <td>-0.018318</td>\n",
       "      <td>0.004123</td>\n",
       "      <td>-0.018447</td>\n",
       "      <td>-0.011041</td>\n",
       "      <td>-0.060237</td>\n",
       "      <td>-0.025718</td>\n",
       "    </tr>\n",
       "    <tr>\n",
       "      <th>2005-01-22</th>\n",
       "      <td>0.020452</td>\n",
       "      <td>0.005551</td>\n",
       "      <td>-0.003939</td>\n",
       "      <td>0.006631</td>\n",
       "      <td>-0.011002</td>\n",
       "      <td>0.048323</td>\n",
       "      <td>0.005506</td>\n",
       "      <td>0.017495</td>\n",
       "      <td>0.010882</td>\n",
       "      <td>0.004062</td>\n",
       "    </tr>\n",
       "    <tr>\n",
       "      <th>2005-01-29</th>\n",
       "      <td>0.005333</td>\n",
       "      <td>0.023564</td>\n",
       "      <td>0.024892</td>\n",
       "      <td>0.007572</td>\n",
       "      <td>0.019455</td>\n",
       "      <td>0.063626</td>\n",
       "      <td>0.017290</td>\n",
       "      <td>0.013889</td>\n",
       "      <td>0.071071</td>\n",
       "      <td>0.018477</td>\n",
       "    </tr>\n",
       "    <tr>\n",
       "      <th>2005-02-05</th>\n",
       "      <td>-0.013387</td>\n",
       "      <td>0.004482</td>\n",
       "      <td>0.079678</td>\n",
       "      <td>-0.003417</td>\n",
       "      <td>-0.025769</td>\n",
       "      <td>0.029619</td>\n",
       "      <td>-0.012886</td>\n",
       "      <td>-0.000552</td>\n",
       "      <td>-0.086638</td>\n",
       "      <td>-0.005587</td>\n",
       "    </tr>\n",
       "  </tbody>\n",
       "</table>\n",
       "</div>"
      ],
      "text/plain": [
       "                MSFT       SPY       AIG       WFC       WMT      AAPL  \\\n",
       "Date                                                                     \n",
       "2005-01-08 -0.020838 -0.001690 -0.021538 -0.024094  0.000000  0.013625   \n",
       "2005-01-15 -0.018158 -0.012425 -0.000303 -0.009437 -0.018318  0.004123   \n",
       "2005-01-22  0.020452  0.005551 -0.003939  0.006631 -0.011002  0.048323   \n",
       "2005-01-29  0.005333  0.023564  0.024892  0.007572  0.019455  0.063626   \n",
       "2005-02-05 -0.013387  0.004482  0.079678 -0.003417 -0.025769  0.029619   \n",
       "\n",
       "                 IBM        GE     GOOGL       JPM  \n",
       "Date                                                \n",
       "2005-01-08 -0.017696 -0.013423  0.031083 -0.006761  \n",
       "2005-01-15 -0.018447 -0.011041 -0.060237 -0.025718  \n",
       "2005-01-22  0.005506  0.017495  0.010882  0.004062  \n",
       "2005-01-29  0.017290  0.013889  0.071071  0.018477  \n",
       "2005-02-05 -0.012886 -0.000552 -0.086638 -0.005587  "
      ]
     },
     "execution_count": 198,
     "metadata": {},
     "output_type": "execute_result"
    }
   ],
   "source": [
    "AdjClose = data.iloc[:, data.columns.get_level_values(1) == 'Adj Close']\n",
    "processed = AdjClose.dropna()\n",
    "processed.columns = processed.columns.droplevel(1)  #turns columns from multi-index to normal index\n",
    "logRet = np.log(processed)\n",
    "logRet = logRet.diff()\n",
    "logRet = logRet.dropna()\n",
    "logRet.head()"
   ]
  },
  {
   "cell_type": "code",
   "execution_count": null,
   "id": "8e501304",
   "metadata": {},
   "outputs": [],
   "source": []
  },
  {
   "cell_type": "markdown",
   "id": "4c857f0a",
   "metadata": {},
   "source": [
    "2. \n",
    "Conduct the NPEB analysis on the individual returns in order to generate the return distribution as well as the covariance relationships.\n",
    "\n",
    "Solve $\\textbf{w}_{\\lambda}^{(n)} (\\eta) := argmin_{w:w^{T}1 = 1}E[E[(\\phi(W) - \\eta W | F_{n}]] $ using ideas from NPEB, i.e. the equation derived from (2.5):\n",
    "\n",
    "$$ \\textbf{w}(\\eta) = \\frac{\\textbf{V}_{n}^{-1} \\textbf{1}}{\\textbf{1}^{T} \\textbf{V}_{n}^{-1} \\textbf{1}}  + \\frac{\\eta}{2\\lambda} \\textbf{V}_{n}^{-1} (\\textbf{ \\mu}_{n} - \\frac{\\textbf{ \\mu}_{n}^{T} \\textbf{V}_{n}^{-1} \\textbf{1}}{\\textbf{1}^{T} \\textbf{V}_{n}^{-1} \\textbf{1}} \\textbf{1} ) $$\n",
    "\n",
    "and via the text, we know that $\\mu_{n}$ and $\\textbf{V}_{n}$ are \n",
    "\n",
    "$$ \\mu_{n} = (\\hat{\\beta}_{1}^{T} x_{1,n-1}, ... , \\hat{\\beta}_{m}^{T} x_{m,n-1} )^{T} $$\n",
    "\n",
    "$$ \\textbf{V}_{n} = \\textbf{\\mu}_{n} \\textbf{\\mu}_{n}^{T} + (\\hat{s}_{i,n} \\hat{s}_{j,n} \\hat{\\sigma}_{i,j}) $$\n",
    "\n",
    "Then, search for $\\eta$ by minimizing (2.11) for given $\\lambda$, followed by searching for $\\lambda$ over a grid to minimize (maximize right?) the information ratio: \n",
    "$$E_{\\mu, \\Sigma} (w_{\\lambda}^{T} r - r_{b}) / \\sqrt{(Var_{\\mu, \\Sigma} (w_{\\lambda}^{T} r - r_{b})} $$"
   ]
  },
  {
   "cell_type": "code",
   "execution_count": 199,
   "id": "c0d037fd",
   "metadata": {},
   "outputs": [],
   "source": [
    "#Lets first find the prior distribution via MLE estimators (practice of NPEB). \n",
    "#First, we can model the returns using two factors and a constant term, and then we can model the error as GARCH(1,1)\n",
    "\n",
    "iterator = 0\n",
    "beta = dict()\n",
    "\n",
    "X = logRet.shift(1) #we'll be using prevoius observations\n",
    "for col in logRet.columns:\n",
    "    if col == 'SPY':\n",
    "        continue\n",
    "    col_1 = X.columns.get_loc('SPY')\n",
    "    col_2 = X.columns.get_loc(col)\n",
    "    x = X.iloc[1:, [col_1,col_2]]\n",
    "    x = sm.add_constant(x)\n",
    "    y = logRet.iloc[1:, logRet.columns == col].to_numpy().reshape(-1,1)\n",
    "    model = sm.OLS(y, x)\n",
    "    beta[col] = model.fit()\n",
    "    iterator = iterator + 1\n",
    "    "
   ]
  },
  {
   "cell_type": "code",
   "execution_count": 200,
   "id": "01d57336",
   "metadata": {},
   "outputs": [
    {
     "name": "stdout",
     "output_type": "stream",
     "text": [
      "const   -0.001452\n",
      "SPY     -0.112463\n",
      "MSFT    -0.137880\n",
      "dtype: float64\n"
     ]
    }
   ],
   "source": [
    "print(beta[logRet.columns[0]].params)"
   ]
  },
  {
   "cell_type": "code",
   "execution_count": 201,
   "id": "77f80d73",
   "metadata": {},
   "outputs": [],
   "source": [
    "#Now that we have our parameters, lets calculate mu_n and our residuals so that we may perform arch on them\n",
    "\n",
    "muRange = np.arange(start=0,stop=len(logRet))\n",
    "mu = np.empty((len(logRet), numAssets))\n",
    "res = np.empty((len(logRet), numAssets))\n",
    "j = 0\n",
    "\n",
    "\n",
    "#I believe in order to use these estimates for the actual study, we'll need to use a sliding window, and\n",
    "#calculate these parameters at each time step within the sliding window\n",
    "\n",
    "#Take the rest of this work to just setting up a framework for calulating these quantities\n",
    "\n",
    "for col in logRet.columns:\n",
    "    if col == 'SPY':\n",
    "        continue\n",
    "    col_1 = X.columns.get_loc('SPY')\n",
    "    col_2 = X.columns.get_loc(col)\n",
    "    for i in range(1, len(logRet)):\n",
    "        data = np.array([1, X.iloc[i, col_1], X.iloc[i, col_2]])\n",
    "        mu[i, j] = np.transpose(beta[col].params)@data\n",
    "        res[i,j] = logRet[col].iloc[i] - mu[i,j]\n",
    "        \n",
    "    j = j+1\n",
    "    "
   ]
  },
  {
   "cell_type": "code",
   "execution_count": 202,
   "id": "e6ae7fff",
   "metadata": {},
   "outputs": [],
   "source": [
    "#Lets get rid of the first rows as they are meaningless\n",
    "mu = np.delete(mu, (0), axis = 0)\n",
    "res = np.delete(res, (0), axis = 0)"
   ]
  },
  {
   "cell_type": "code",
   "execution_count": 215,
   "id": "32701775",
   "metadata": {},
   "outputs": [
    {
     "name": "stdout",
     "output_type": "stream",
     "text": [
      "Iteration:      1,   Func. Count:      6,   Neg. LLF: 320.6335515121691\n",
      "Iteration:      2,   Func. Count:     13,   Neg. LLF: 66.45816976746192\n",
      "Iteration:      3,   Func. Count:     23,   Neg. LLF: 274.6831825188227\n",
      "Iteration:      4,   Func. Count:     29,   Neg. LLF: 49.17609388937803\n",
      "Iteration:      5,   Func. Count:     34,   Neg. LLF: 228.0991575790768\n",
      "Iteration:      6,   Func. Count:     40,   Neg. LLF: 50.65923664626112\n",
      "Iteration:      7,   Func. Count:     46,   Neg. LLF: 52.019532397572945\n",
      "Iteration:      8,   Func. Count:     52,   Neg. LLF: 211.4099962950864\n",
      "Iteration:      9,   Func. Count:     58,   Neg. LLF: 48.62676063746559\n",
      "Iteration:     10,   Func. Count:     63,   Neg. LLF: 48.61415056617668\n",
      "Iteration:     11,   Func. Count:     68,   Neg. LLF: 48.60431192201887\n",
      "Iteration:     12,   Func. Count:     73,   Neg. LLF: 48.602589599415005\n",
      "Iteration:     13,   Func. Count:     78,   Neg. LLF: 48.602469671635006\n",
      "Iteration:     14,   Func. Count:     83,   Neg. LLF: 48.60246625794695\n",
      "Iteration:     15,   Func. Count:     87,   Neg. LLF: 48.60246625794578\n",
      "Optimization terminated successfully    (Exit mode 0)\n",
      "            Current function value: 48.60246625794695\n",
      "            Iterations: 15\n",
      "            Function evaluations: 87\n",
      "            Gradient evaluations: 15\n",
      "Iteration:      1,   Func. Count:      6,   Neg. LLF: 3766.5977406636266\n",
      "Iteration:      2,   Func. Count:     13,   Neg. LLF: 161.52363433583827\n",
      "Iteration:      3,   Func. Count:     19,   Neg. LLF: 143.95913711258163\n",
      "Iteration:      4,   Func. Count:     25,   Neg. LLF: 138.3528006111278\n",
      "Iteration:      5,   Func. Count:     30,   Neg. LLF: 138.30776114874803\n",
      "Iteration:      6,   Func. Count:     36,   Neg. LLF: 138.1962136363632\n",
      "Iteration:      7,   Func. Count:     42,   Neg. LLF: 137.97846001981395\n",
      "Iteration:      8,   Func. Count:     47,   Neg. LLF: 137.972931911558\n",
      "Iteration:      9,   Func. Count:     52,   Neg. LLF: 137.97269433120744\n",
      "Iteration:     10,   Func. Count:     57,   Neg. LLF: 137.97266264741026\n",
      "Iteration:     11,   Func. Count:     62,   Neg. LLF: 137.97266183336862\n",
      "Optimization terminated successfully    (Exit mode 0)\n",
      "            Current function value: 137.97266183336862\n",
      "            Iterations: 11\n",
      "            Function evaluations: 62\n",
      "            Gradient evaluations: 11\n",
      "Iteration:      1,   Func. Count:      6,   Neg. LLF: 380.47210029312373\n",
      "Iteration:      2,   Func. Count:     13,   Neg. LLF: 48.00936349512095\n",
      "Iteration:      3,   Func. Count:     19,   Neg. LLF: 490.1548419991724\n",
      "Iteration:      4,   Func. Count:     25,   Neg. LLF: 211.4718301510096\n",
      "Iteration:      5,   Func. Count:     31,   Neg. LLF: 70.77138712849427\n",
      "Iteration:      6,   Func. Count:     37,   Neg. LLF: 212.67177292315998\n",
      "Iteration:      7,   Func. Count:     43,   Neg. LLF: 50.69716984663171\n",
      "Iteration:      8,   Func. Count:     49,   Neg. LLF: 44.28756591416381\n",
      "Iteration:      9,   Func. Count:     54,   Neg. LLF: 44.27705866441582\n",
      "Iteration:     10,   Func. Count:     59,   Neg. LLF: 44.27678979874261\n",
      "Iteration:     11,   Func. Count:     64,   Neg. LLF: 44.27653551815776\n",
      "Iteration:     12,   Func. Count:     69,   Neg. LLF: 44.27653349480758\n",
      "Iteration:     13,   Func. Count:     73,   Neg. LLF: 44.276533494802905\n",
      "Optimization terminated successfully    (Exit mode 0)\n",
      "            Current function value: 44.27653349480758\n",
      "            Iterations: 13\n",
      "            Function evaluations: 73\n",
      "            Gradient evaluations: 13\n",
      "Iteration:      1,   Func. Count:      6,   Neg. LLF: 991.6004721494126\n",
      "Iteration:      2,   Func. Count:     16,   Neg. LLF: 503.83689068047744\n",
      "Iteration:      3,   Func. Count:     25,   Neg. LLF: 538.950253563022\n",
      "Iteration:      4,   Func. Count:     33,   Neg. LLF: 502.6617081764881\n",
      "Iteration:      5,   Func. Count:     38,   Neg. LLF: 505.51262489064516\n",
      "Iteration:      6,   Func. Count:     44,   Neg. LLF: 509.0782803290649\n",
      "Iteration:      7,   Func. Count:     50,   Neg. LLF: 509.525913055263\n",
      "Iteration:      8,   Func. Count:     56,   Neg. LLF: 509.334056154454\n",
      "Iteration:      9,   Func. Count:     62,   Neg. LLF: 509.04268230346895\n",
      "Iteration:     10,   Func. Count:     68,   Neg. LLF: 508.60075988337024\n",
      "Iteration:     11,   Func. Count:     74,   Neg. LLF: 502.0568962756501\n",
      "Iteration:     12,   Func. Count:     79,   Neg. LLF: 504.0805709276947\n",
      "Iteration:     13,   Func. Count:     85,   Neg. LLF: 501.9233455897874\n",
      "Iteration:     14,   Func. Count:     90,   Neg. LLF: 501.9227752230906\n",
      "Iteration:     15,   Func. Count:     95,   Neg. LLF: 501.9220228719047\n",
      "Iteration:     16,   Func. Count:    100,   Neg. LLF: 501.9193008464691\n",
      "Iteration:     17,   Func. Count:    105,   Neg. LLF: 501.91326418138533\n",
      "Iteration:     18,   Func. Count:    110,   Neg. LLF: 501.8995213078495\n",
      "Iteration:     19,   Func. Count:    115,   Neg. LLF: 501.86952884881146\n",
      "Iteration:     20,   Func. Count:    120,   Neg. LLF: 501.8221599174994\n",
      "Iteration:     21,   Func. Count:    125,   Neg. LLF: 501.7717328368247\n",
      "Iteration:     22,   Func. Count:    130,   Neg. LLF: 501.75541256167486\n",
      "Iteration:     23,   Func. Count:    135,   Neg. LLF: 501.75423322610743\n",
      "Iteration:     24,   Func. Count:    140,   Neg. LLF: 598.376577118963\n",
      "Iteration:     25,   Func. Count:    149,   Neg. LLF: 501.75422326143064\n",
      "Iteration:     26,   Func. Count:    153,   Neg. LLF: 501.75422326141967\n",
      "Optimization terminated successfully    (Exit mode 0)\n",
      "            Current function value: 501.75422326143064\n",
      "            Iterations: 27\n",
      "            Function evaluations: 153\n",
      "            Gradient evaluations: 26\n",
      "Iteration:      1,   Func. Count:      6,   Neg. LLF: 750.9878727960918\n",
      "Iteration:      2,   Func. Count:     14,   Neg. LLF: 181.98923460403006\n",
      "Iteration:      3,   Func. Count:     19,   Neg. LLF: 181.94160311740208\n",
      "Iteration:      4,   Func. Count:     24,   Neg. LLF: 181.91473297037754\n",
      "Iteration:      5,   Func. Count:     29,   Neg. LLF: 181.9110553822532\n",
      "Iteration:      6,   Func. Count:     34,   Neg. LLF: 181.90438038503538\n",
      "Iteration:      7,   Func. Count:     39,   Neg. LLF: 181.9007417411583\n",
      "Iteration:      8,   Func. Count:     44,   Neg. LLF: 181.90064759213425\n",
      "Iteration:      9,   Func. Count:     49,   Neg. LLF: 181.90064009527748\n",
      "Iteration:     10,   Func. Count:     53,   Neg. LLF: 181.90064009527705\n",
      "Optimization terminated successfully    (Exit mode 0)\n",
      "            Current function value: 181.90064009527748\n",
      "            Iterations: 10\n",
      "            Function evaluations: 53\n",
      "            Gradient evaluations: 10\n",
      "Iteration:      1,   Func. Count:      6,   Neg. LLF: 3942.0579514715146\n",
      "Iteration:      2,   Func. Count:     13,   Neg. LLF: 268.4800069158023\n",
      "Iteration:      3,   Func. Count:     20,   Neg. LLF: 215.58997430278683\n",
      "Iteration:      4,   Func. Count:     26,   Neg. LLF: 192.02846980367673\n",
      "Iteration:      5,   Func. Count:     32,   Neg. LLF: 61.79092795835989\n",
      "Iteration:      6,   Func. Count:     38,   Neg. LLF: 39.77344680143718\n",
      "Iteration:      7,   Func. Count:     43,   Neg. LLF: 39.620613852391365\n",
      "Iteration:      8,   Func. Count:     49,   Neg. LLF: 49.17669342181182\n",
      "Iteration:      9,   Func. Count:     57,   Neg. LLF: 39.220610596658275\n",
      "Iteration:     10,   Func. Count:     62,   Neg. LLF: 44.91320118714493\n",
      "Iteration:     11,   Func. Count:     69,   Neg. LLF: 39.15986238055082\n",
      "Iteration:     12,   Func. Count:     74,   Neg. LLF: 39.154929356720004\n",
      "Iteration:     13,   Func. Count:     79,   Neg. LLF: 39.154566572510966\n",
      "Iteration:     14,   Func. Count:     84,   Neg. LLF: 39.154444470821694\n",
      "Iteration:     15,   Func. Count:     89,   Neg. LLF: 39.1544431407722\n",
      "Iteration:     16,   Func. Count:     93,   Neg. LLF: 39.15444314077054\n",
      "Optimization terminated successfully    (Exit mode 0)\n",
      "            Current function value: 39.1544431407722\n",
      "            Iterations: 16\n",
      "            Function evaluations: 93\n",
      "            Gradient evaluations: 16\n",
      "Iteration:      1,   Func. Count:      6,   Neg. LLF: 98.23007495992825\n",
      "Iteration:      2,   Func. Count:     12,   Neg. LLF: 252.3816391309131\n",
      "Iteration:      3,   Func. Count:     18,   Neg. LLF: 186.4334643915016\n",
      "Iteration:      4,   Func. Count:     24,   Neg. LLF: 27.55457777171275\n",
      "Iteration:      5,   Func. Count:     30,   Neg. LLF: 182.88589027356966\n",
      "Iteration:      6,   Func. Count:     36,   Neg. LLF: 96.75757620517086\n",
      "Iteration:      7,   Func. Count:     42,   Neg. LLF: 185.9886733236787\n",
      "Iteration:      8,   Func. Count:     48,   Neg. LLF: 9.34022738691526\n",
      "Iteration:      9,   Func. Count:     53,   Neg. LLF: 9.331483336234882\n",
      "Iteration:     10,   Func. Count:     58,   Neg. LLF: 9.335408881298132\n",
      "Iteration:     11,   Func. Count:     63,   Neg. LLF: 9.324085991688644\n",
      "Iteration:     12,   Func. Count:     68,   Neg. LLF: 617.0882906321908\n",
      "Iteration:     13,   Func. Count:     78,   Neg. LLF: 25.709392889369415\n",
      "Iteration:     14,   Func. Count:     86,   Neg. LLF: 9.326866631446464\n",
      "Iteration:     15,   Func. Count:     91,   Neg. LLF: 9.326720880296627\n",
      "Iteration:     16,   Func. Count:     95,   Neg. LLF: 9.326720880283503\n",
      "Optimization terminated successfully    (Exit mode 0)\n",
      "            Current function value: 9.326720880296627\n",
      "            Iterations: 17\n",
      "            Function evaluations: 95\n",
      "            Gradient evaluations: 16\n",
      "Iteration:      1,   Func. Count:      6,   Neg. LLF: 729.7704381936353\n",
      "Iteration:      2,   Func. Count:     16,   Neg. LLF: 160.44550257320208\n",
      "Iteration:      3,   Func. Count:     24,   Neg. LLF: 194.22805598327938\n",
      "Iteration:      4,   Func. Count:     31,   Neg. LLF: 148.84415889589124\n",
      "Iteration:      5,   Func. Count:     36,   Neg. LLF: 148.8376408048896\n",
      "Iteration:      6,   Func. Count:     41,   Neg. LLF: 148.82879625903\n",
      "Iteration:      7,   Func. Count:     46,   Neg. LLF: 148.79909962560242\n",
      "Iteration:      8,   Func. Count:     51,   Neg. LLF: 148.75564911884646\n",
      "Iteration:      9,   Func. Count:     56,   Neg. LLF: 148.74228734576678\n",
      "Iteration:     10,   Func. Count:     61,   Neg. LLF: 148.73055087940514\n",
      "Iteration:     11,   Func. Count:     66,   Neg. LLF: 148.7279672458983\n",
      "Iteration:     12,   Func. Count:     71,   Neg. LLF: 148.72717820378634\n",
      "Iteration:     13,   Func. Count:     76,   Neg. LLF: 148.72702047014303\n",
      "Iteration:     14,   Func. Count:     81,   Neg. LLF: 148.7270103373688\n",
      "Iteration:     15,   Func. Count:     85,   Neg. LLF: 148.72701033736843\n",
      "Optimization terminated successfully    (Exit mode 0)\n",
      "            Current function value: 148.7270103373688\n",
      "            Iterations: 15\n",
      "            Function evaluations: 85\n",
      "            Gradient evaluations: 15\n",
      "Iteration:      1,   Func. Count:      6,   Neg. LLF: 732.2020416480378\n",
      "Iteration:      2,   Func. Count:     16,   Neg. LLF: 215.08046838729717\n",
      "Iteration:      3,   Func. Count:     22,   Neg. LLF: 95.14824714733437\n",
      "Iteration:      4,   Func. Count:     28,   Neg. LLF: 92.10879334718582\n",
      "Iteration:      5,   Func. Count:     34,   Neg. LLF: 94.37632008131263\n",
      "Iteration:      6,   Func. Count:     40,   Neg. LLF: 90.83065285207135\n"
     ]
    },
    {
     "name": "stdout",
     "output_type": "stream",
     "text": [
      "Iteration:      7,   Func. Count:     45,   Neg. LLF: 90.81102200916199\n",
      "Iteration:      8,   Func. Count:     50,   Neg. LLF: 90.80608823476538\n",
      "Iteration:      9,   Func. Count:     55,   Neg. LLF: 90.80060893806717\n",
      "Iteration:     10,   Func. Count:     60,   Neg. LLF: 90.80050857745887\n",
      "Iteration:     11,   Func. Count:     65,   Neg. LLF: 90.80050690055182\n",
      "Iteration:     12,   Func. Count:     69,   Neg. LLF: 90.80050690055185\n",
      "Optimization terminated successfully    (Exit mode 0)\n",
      "            Current function value: 90.80050690055182\n",
      "            Iterations: 12\n",
      "            Function evaluations: 69\n",
      "            Gradient evaluations: 12\n"
     ]
    }
   ],
   "source": [
    "#Now we can model our residuals as a GARCH(1,1) process\n",
    "res\n",
    "\n",
    "iVol = list()\n",
    "for m in range(0,res.shape[1]):\n",
    "    #Note, i could pass exogenous regressors to this constructor via x = X as defined before\n",
    "    \n",
    "    iModel = arch.arch_model(res[:, m], mean = 'Zero', dist = 't', rescale = True)\n",
    "    iModelFit = iModel.fit()\n",
    "    iVol.append(iModelFit.params)"
   ]
  },
  {
   "cell_type": "code",
   "execution_count": 209,
   "id": "494fb493",
   "metadata": {},
   "outputs": [
    {
     "name": "stdout",
     "output_type": "stream",
     "text": [
      "207\n"
     ]
    }
   ],
   "source": [
    "#Assume the following are inside the for loop where we were filling in mu and res\n",
    "def s(params, data):\n",
    "    ret = params[0] + params[1]*data[0]**2 + params[2]*data[1]**2\n",
    "    return ret\n",
    "\n",
    "sample_cov = np.cov(res[0])\n",
    "for i in range(0, numAssets):\n",
    "    for j in range(0, numAssets):\n",
    "        \n",
    "        V_n[i,j] = np.sqrt(s(iVol[i].params, dataI))*np.sqrt(s(iVol[j].params, dataJ))*sample_cov[i,j]\n",
    "        V_n[i,j] += mu[i,i]*mu[i,j]"
   ]
  },
  {
   "cell_type": "markdown",
   "id": "cdc3f12b",
   "metadata": {},
   "source": [
    "3. \n",
    "Calculate the Expected Shortfall (cVARa) estimates for the data at each time point, where CVaR is the convex function "
   ]
  },
  {
   "cell_type": "markdown",
   "id": "405a758d",
   "metadata": {},
   "source": [
    "4. \n",
    "Calculate the optimal portfolio weights via grid search, optimization, and using the previous n = 120 weeks in order to construct the subsequent week."
   ]
  },
  {
   "cell_type": "code",
   "execution_count": 66,
   "id": "02c426ce",
   "metadata": {},
   "outputs": [
    {
     "name": "stdout",
     "output_type": "stream",
     "text": [
      "[0.125, 0.25, 0.5, 1, 2, 4, 8, 16, 32, 64]\n"
     ]
    }
   ],
   "source": [
    "risk_lambda = [2**i for i in range(-3,7)]\n",
    "print(risk_lambda)"
   ]
  },
  {
   "cell_type": "markdown",
   "id": "51fc6ab9",
   "metadata": {},
   "source": [
    "5. \n",
    "Using these dynamic portfolio weights, model the cumulative returns for the period and compare them to plug-in portfolio."
   ]
  },
  {
   "cell_type": "code",
   "execution_count": 192,
   "id": "88bc29cb",
   "metadata": {},
   "outputs": [],
   "source": [
    "#Lets first find the plug-in returns using the same idea with a sliding window\n",
    "\n",
    "def optimalWeight(retMean, retCov, targetReturn, riskFree):\n",
    "    inverseCov = np.linalg.inv(retCov)\n",
    "    riskAdjMean = np.subtract(retMean, riskFree)\n",
    "    one = np.ones((len(retMean),1))\n",
    "    \n",
    "    A = np.ndarray.item(np.transpose(riskAdjMean)@inverseCov@one)\n",
    "    B = np.ndarray.item(np.transpose(riskAdjMean)@inverseCov@riskAdjMean)\n",
    "    C = np.transpose(one)@inverseCov@one\n",
    "    D = B*C - A**2\n",
    "\n",
    "    numerator = B*inverseCov@one - A*inverseCov@riskAdjMean\n",
    "    numerator += targetReturn*(C*inverseCov@riskAdjMean - A*inverseCov@one)\n",
    "    optimalWeights = numerator * (1/D)\n",
    "\n",
    "    return optimalWeights"
   ]
  },
  {
   "cell_type": "code",
   "execution_count": 193,
   "id": "e0337af0",
   "metadata": {},
   "outputs": [],
   "source": [
    "windowSize = 120\n",
    "rf = 0\n",
    "numAssets = 9\n",
    "maxRet = 5\n",
    "\n",
    "#In order to find the plug-in portfolio that returns the highest information ratio, we'll need to do some\n",
    "#grid searching\n",
    "\n",
    "mu = np.linspace(0.1, maxRet, 51)\n",
    "\n",
    "plugInReturn = []\n",
    "riskFree = np.full((numAssets,1), rf)\n",
    "\n",
    "\n",
    "for i in range(10, len(logRet)):   #algo unstable for low history, so we start at n = 10\n",
    "    leftIndex = max(0, i - windowSize)\n",
    "    sampleMean = logRet.iloc[leftIndex:i, logRet.columns != 'SPY'].mean(axis = 0)\n",
    "    sampleCov = logRet.iloc[leftIndex:i, logRet.columns != 'SPY'].cov()\n",
    "    periodRet = logRet.iloc[i, logRet.columns != 'SPY']\n",
    "    marketRet = logRet.iloc[i, logRet.columns == 'SPY']\n",
    "        \n",
    "    sampleMeanMatrix = sampleMean.to_numpy()\n",
    "    sampleMeanMatrix = sampleMeanMatrix.reshape((numAssets,1))\n",
    "    sampleCovMatrix = sampleCov.to_numpy()\n",
    "    periodRetMatrix = periodRet.to_numpy()\n",
    "    \n",
    "    InfoRatio = -10000000  #just need it to be a value that no other value will fail to be a max\n",
    "    maxWeight = np.ones((numAssets,1))\n",
    "    \n",
    "    for j in mu:\n",
    "        \n",
    "        optimalweights = optimalWeight(sampleMeanMatrix, sampleCovMatrix, j, riskFree)\n",
    "        expectedReturn = np.ndarray.item(np.transpose(optimalweights)@sampleMeanMatrix)\n",
    "        expectedVariance = np.ndarray.item(np.transpose(optimalweights)@sampleCovMatrix@optimalweights)\n",
    "        temp = (expectedReturn - marketRet.values[0]) / np.sqrt(expectedVariance)\n",
    "        if temp > InfoRatio:\n",
    "            maxWeight = optimalweights\n",
    "            \n",
    "    iRet = np.transpose(maxWeight)@periodRetMatrix \n",
    "    plugInReturn.append(np.ndarray.item(iRet) - marketRet.values[0])\n",
    "\n"
   ]
  },
  {
   "cell_type": "code",
   "execution_count": 216,
   "id": "87d75242",
   "metadata": {},
   "outputs": [
    {
     "data": {
      "text/plain": [
       "[<matplotlib.lines.Line2D at 0x7fae4221b610>]"
      ]
     },
     "execution_count": 216,
     "metadata": {},
     "output_type": "execute_result"
    },
    {
     "data": {
      "image/png": "[encoded data removed]",
      "text/plain": [
       "<Figure size 800x480 with 1 Axes>"
      ]
     },
     "metadata": {
      "needs_background": "light"
     },
     "output_type": "display_data"
    }
   ],
   "source": [
    "plt.figure(figsize=(10,6), dpi = 80)\n",
    "\n",
    "cumulative = []\n",
    "cumsum = 0\n",
    "for i in plugInReturn:\n",
    "    cumsum += i\n",
    "    cumulative.append(cumsum)\n",
    "\n",
    "#plt.plot(plugInReturn)\n",
    "#plt.plot(cumulative)\n",
    "plt.plot(logRet['SPY'])\n"
   ]
  },
  {
   "cell_type": "markdown",
   "id": "9e29230d",
   "metadata": {},
   "source": [
    "This is obviously so wildly outperforming the index so something is wrong with the code. My guess is that we get a massive jump in perfomance in what seems to be around the 2007 time period, and we have huge short positions in the portfolio that generate massive returns. Need to take a look at what's going wrong for the plug-in portfolio. "
   ]
  },
  {
   "cell_type": "code",
   "execution_count": null,
   "id": "6a389e0e",
   "metadata": {},
   "outputs": [],
   "source": []
  }
 ],
 "metadata": {
  "kernelspec": {
   "display_name": "Python 3",
   "language": "python",
   "name": "python3"
  },
  "language_info": {
   "codemirror_mode": {
    "name": "ipython",
    "version": 3
   },
   "file_extension": ".py",
   "mimetype": "text/x-python",
   "name": "python",
   "nbconvert_exporter": "python",
   "pygments_lexer": "ipython3",
   "version": "3.8.8"
  }
 },
 "nbformat": 4,
 "nbformat_minor": 5
}
