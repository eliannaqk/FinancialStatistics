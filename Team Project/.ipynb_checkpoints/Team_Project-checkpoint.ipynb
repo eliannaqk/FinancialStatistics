{
 "cells": [
  {
   "cell_type": "markdown",
   "id": "ba40a2e8",
   "metadata": {},
   "source": [
    "1. \n",
    "First need to read in the weekly returns for the 10 specified stocks from the period Jan 2005 - Dec 2009.\n",
    "Stocks are Wells Fargo, JP Morgan, Apple, Microsoft, Google, IBM, Walmart, AIG, and GE."
   ]
  },
  {
   "cell_type": "code",
   "execution_count": 28,
   "id": "8da416db",
   "metadata": {},
   "outputs": [],
   "source": [
    "#Need to run this command at anaconda prompt: \"$ pip3 install yfinance\"\n",
    "import yfinance as yf\n",
    "import pandas as pd\n",
    "from matplotlib import pyplot as plt\n",
    "import math\n",
    "import numpy as np\n"
   ]
  },
  {
   "cell_type": "code",
   "execution_count": 4,
   "id": "6f49c303",
   "metadata": {},
   "outputs": [
    {
     "name": "stdout",
     "output_type": "stream",
     "text": [
      "[*********************100%***********************]  9 of 9 completed\n"
     ]
    }
   ],
   "source": [
    "data = yf.download(\n",
    "        tickers = 'wfc jpm aapl msft googl ibm wmt aig ge ', \n",
    "        start = \"2005-01-01\", \n",
    "        end = \"2008-12-31\",\n",
    "        interval = \"1wk\",\n",
    "        group_by = 'ticker',\n",
    "        threads = True)"
   ]
  },
  {
   "cell_type": "markdown",
   "id": "1b54689f",
   "metadata": {},
   "source": [
    "Now lets turn this multi-index df into a regular df and looking only at AdjClose which we'll use to calculate \n",
    "the logreturn values weekly. Also, periodic NA values result from yfinance throwing in random non week ending datapoints, probably resulting from choosing Jan 1st 2005 as the starting point which was a Saturday. So, lets drop those and then calculate log returns. "
   ]
  },
  {
   "cell_type": "code",
   "execution_count": 61,
   "id": "8fe42d7d",
   "metadata": {},
   "outputs": [
    {
     "data": {
      "text/html": [
       "<div>\n",
       "<style scoped>\n",
       "    .dataframe tbody tr th:only-of-type {\n",
       "        vertical-align: middle;\n",
       "    }\n",
       "\n",
       "    .dataframe tbody tr th {\n",
       "        vertical-align: top;\n",
       "    }\n",
       "\n",
       "    .dataframe thead th {\n",
       "        text-align: right;\n",
       "    }\n",
       "</style>\n",
       "<table border=\"1\" class=\"dataframe\">\n",
       "  <thead>\n",
       "    <tr style=\"text-align: right;\">\n",
       "      <th></th>\n",
       "      <th>MSFT</th>\n",
       "      <th>AIG</th>\n",
       "      <th>AAPL</th>\n",
       "      <th>GE</th>\n",
       "      <th>JPM</th>\n",
       "      <th>IBM</th>\n",
       "      <th>WMT</th>\n",
       "      <th>WFC</th>\n",
       "      <th>GOOGL</th>\n",
       "    </tr>\n",
       "    <tr>\n",
       "      <th>Date</th>\n",
       "      <th></th>\n",
       "      <th></th>\n",
       "      <th></th>\n",
       "      <th></th>\n",
       "      <th></th>\n",
       "      <th></th>\n",
       "      <th></th>\n",
       "      <th></th>\n",
       "      <th></th>\n",
       "    </tr>\n",
       "  </thead>\n",
       "  <tbody>\n",
       "    <tr>\n",
       "      <th>2005-01-08</th>\n",
       "      <td>-0.020839</td>\n",
       "      <td>-0.021539</td>\n",
       "      <td>0.013625</td>\n",
       "      <td>-0.013423</td>\n",
       "      <td>-0.006761</td>\n",
       "      <td>-0.017697</td>\n",
       "      <td>0.000000</td>\n",
       "      <td>-0.024094</td>\n",
       "      <td>0.031083</td>\n",
       "    </tr>\n",
       "    <tr>\n",
       "      <th>2005-01-15</th>\n",
       "      <td>-0.018157</td>\n",
       "      <td>-0.000302</td>\n",
       "      <td>0.004122</td>\n",
       "      <td>-0.011040</td>\n",
       "      <td>-0.025718</td>\n",
       "      <td>-0.018447</td>\n",
       "      <td>-0.018318</td>\n",
       "      <td>-0.009436</td>\n",
       "      <td>-0.060237</td>\n",
       "    </tr>\n",
       "    <tr>\n",
       "      <th>2005-01-22</th>\n",
       "      <td>0.020452</td>\n",
       "      <td>-0.003940</td>\n",
       "      <td>0.048324</td>\n",
       "      <td>0.017495</td>\n",
       "      <td>0.004063</td>\n",
       "      <td>0.005506</td>\n",
       "      <td>-0.011001</td>\n",
       "      <td>0.006631</td>\n",
       "      <td>0.010882</td>\n",
       "    </tr>\n",
       "    <tr>\n",
       "      <th>2005-01-29</th>\n",
       "      <td>0.005334</td>\n",
       "      <td>0.024893</td>\n",
       "      <td>0.063626</td>\n",
       "      <td>0.013889</td>\n",
       "      <td>0.018477</td>\n",
       "      <td>0.017290</td>\n",
       "      <td>0.019455</td>\n",
       "      <td>0.007572</td>\n",
       "      <td>0.071071</td>\n",
       "    </tr>\n",
       "    <tr>\n",
       "      <th>2005-02-05</th>\n",
       "      <td>-0.013387</td>\n",
       "      <td>0.079678</td>\n",
       "      <td>0.029618</td>\n",
       "      <td>-0.000552</td>\n",
       "      <td>-0.005587</td>\n",
       "      <td>-0.012886</td>\n",
       "      <td>-0.025769</td>\n",
       "      <td>-0.003416</td>\n",
       "      <td>-0.086638</td>\n",
       "    </tr>\n",
       "  </tbody>\n",
       "</table>\n",
       "</div>"
      ],
      "text/plain": [
       "                MSFT       AIG      AAPL        GE       JPM       IBM  \\\n",
       "Date                                                                     \n",
       "2005-01-08 -0.020839 -0.021539  0.013625 -0.013423 -0.006761 -0.017697   \n",
       "2005-01-15 -0.018157 -0.000302  0.004122 -0.011040 -0.025718 -0.018447   \n",
       "2005-01-22  0.020452 -0.003940  0.048324  0.017495  0.004063  0.005506   \n",
       "2005-01-29  0.005334  0.024893  0.063626  0.013889  0.018477  0.017290   \n",
       "2005-02-05 -0.013387  0.079678  0.029618 -0.000552 -0.005587 -0.012886   \n",
       "\n",
       "                 WMT       WFC     GOOGL  \n",
       "Date                                      \n",
       "2005-01-08  0.000000 -0.024094  0.031083  \n",
       "2005-01-15 -0.018318 -0.009436 -0.060237  \n",
       "2005-01-22 -0.011001  0.006631  0.010882  \n",
       "2005-01-29  0.019455  0.007572  0.071071  \n",
       "2005-02-05 -0.025769 -0.003416 -0.086638  "
      ]
     },
     "execution_count": 61,
     "metadata": {},
     "output_type": "execute_result"
    }
   ],
   "source": [
    "AdjClose = data.iloc[:, data.columns.get_level_values(1) == 'Adj Close']\n",
    "processed = AdjClose.dropna()\n",
    "processed.columns = processed.columns.droplevel(1)  #turns columns from multi-index to normal index\n",
    "logRet = np.log(processed)\n",
    "logRet = logRet.diff()\n",
    "logRet = logRet.dropna()\n",
    "logRet.head()"
   ]
  },
  {
   "cell_type": "code",
   "execution_count": null,
   "id": "5aaf7797",
   "metadata": {},
   "outputs": [],
   "source": []
  },
  {
   "cell_type": "markdown",
   "id": "08a50689",
   "metadata": {},
   "source": [
    "2. \n",
    "Conduct the NPEB analysis on the individual returns in order to generate the return distribution as well as the covariance relationships."
   ]
  },
  {
   "cell_type": "markdown",
   "id": "e897bc18",
   "metadata": {},
   "source": [
    "3. \n",
    "Calculate the Expected Shortfall (cVARa) estimates for the data at each time point"
   ]
  },
  {
   "cell_type": "markdown",
   "id": "c84fd507",
   "metadata": {},
   "source": [
    "4. \n",
    "Calculate the optimal portfolio weights via grid search, optimization"
   ]
  },
  {
   "cell_type": "markdown",
   "id": "af958534",
   "metadata": {},
   "source": [
    "5. \n",
    "Using these dynamic portfolio weights, model the cumulative returns for the period and compare them to just holding the market basket."
   ]
  }
 ],
 "metadata": {
  "kernelspec": {
   "display_name": "Python 3",
   "language": "python",
   "name": "python3"
  },
  "language_info": {
   "codemirror_mode": {
    "name": "ipython",
    "version": 3
   },
   "file_extension": ".py",
   "mimetype": "text/x-python",
   "name": "python",
   "nbconvert_exporter": "python",
   "pygments_lexer": "ipython3",
   "version": "3.8.8"
  }
 },
 "nbformat": 4,
 "nbformat_minor": 5
}
