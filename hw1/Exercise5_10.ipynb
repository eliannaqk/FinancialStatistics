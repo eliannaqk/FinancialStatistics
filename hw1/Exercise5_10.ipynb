{
 "cells": [
  {
   "cell_type": "markdown",
   "id": "63014024",
   "metadata": {},
   "source": [
    "Exercise 5.10"
   ]
  },
  {
   "cell_type": "code",
   "execution_count": 3,
   "id": "fc743d11",
   "metadata": {},
   "outputs": [],
   "source": [
    "#import libraries\n",
    "import numpy as np\n",
    "import pandas as pd\n",
    "from matplotlib import pyplot as plt\n",
    "import math\n",
    "#from sklearn.linear_model import LinearRegression\n",
    "import statsmodels.api as sm"
   ]
  },
  {
   "cell_type": "code",
   "execution_count": 5,
   "id": "a44461a3",
   "metadata": {},
   "outputs": [],
   "source": [
    "logRet = pd.read_csv(\"m_logret_10stocks.txt\", delimiter = \"\\t\")\n",
    "capmRef = pd.read_csv(\"m_sp500ret_3mtcm.txt\", delim_whitespace = True)"
   ]
  },
  {
   "cell_type": "code",
   "execution_count": 6,
   "id": "e4061bb1",
   "metadata": {},
   "outputs": [],
   "source": [
    "#Need to make sure each column has the same return type: \"log montlhy returns\"\n",
    "capmRef['sp500'] = capmRef['sp500'].apply(lambda x: math.log(x+1))\n",
    "capmRef['3mTCM'] = capmRef['3mTCM'].apply(lambda x: math.log((x/(100*12)) + 1))\n"
   ]
  },
  {
   "cell_type": "code",
   "execution_count": 7,
   "id": "8220b155",
   "metadata": {},
   "outputs": [
    {
     "data": {
      "text/html": [
       "<div>\n",
       "<style scoped>\n",
       "    .dataframe tbody tr th:only-of-type {\n",
       "        vertical-align: middle;\n",
       "    }\n",
       "\n",
       "    .dataframe tbody tr th {\n",
       "        vertical-align: top;\n",
       "    }\n",
       "\n",
       "    .dataframe thead th {\n",
       "        text-align: right;\n",
       "    }\n",
       "</style>\n",
       "<table border=\"1\" class=\"dataframe\">\n",
       "  <thead>\n",
       "    <tr style=\"text-align: right;\">\n",
       "      <th></th>\n",
       "      <th>Date</th>\n",
       "      <th>AAPL</th>\n",
       "      <th>ADBE</th>\n",
       "      <th>ADP</th>\n",
       "      <th>AMD</th>\n",
       "      <th>DELL</th>\n",
       "      <th>GTW</th>\n",
       "      <th>HP</th>\n",
       "      <th>IBM</th>\n",
       "      <th>MSFT</th>\n",
       "      <th>ORCL</th>\n",
       "      <th>sp500</th>\n",
       "      <th>3mTCM</th>\n",
       "    </tr>\n",
       "  </thead>\n",
       "  <tbody>\n",
       "    <tr>\n",
       "      <th>0</th>\n",
       "      <td>1/3/1994</td>\n",
       "      <td>0.048913</td>\n",
       "      <td>0.135255</td>\n",
       "      <td>-0.022896</td>\n",
       "      <td>0.062311</td>\n",
       "      <td>-0.012589</td>\n",
       "      <td>0.089236</td>\n",
       "      <td>-0.004332</td>\n",
       "      <td>0.000000</td>\n",
       "      <td>0.023481</td>\n",
       "      <td>0.049109</td>\n",
       "      <td>0.013795</td>\n",
       "      <td>0.002480</td>\n",
       "    </tr>\n",
       "    <tr>\n",
       "      <th>1</th>\n",
       "      <td>2/1/1994</td>\n",
       "      <td>0.048849</td>\n",
       "      <td>-0.014934</td>\n",
       "      <td>-0.009507</td>\n",
       "      <td>0.020685</td>\n",
       "      <td>0.059586</td>\n",
       "      <td>-0.002166</td>\n",
       "      <td>-0.014386</td>\n",
       "      <td>-0.026850</td>\n",
       "      <td>-0.013543</td>\n",
       "      <td>0.010790</td>\n",
       "      <td>-0.013337</td>\n",
       "      <td>0.002705</td>\n",
       "    </tr>\n",
       "    <tr>\n",
       "      <th>2</th>\n",
       "      <td>3/1/1994</td>\n",
       "      <td>-0.040761</td>\n",
       "      <td>-0.078928</td>\n",
       "      <td>0.000873</td>\n",
       "      <td>0.162273</td>\n",
       "      <td>0.000000</td>\n",
       "      <td>-0.071433</td>\n",
       "      <td>-0.007948</td>\n",
       "      <td>0.014169</td>\n",
       "      <td>0.011634</td>\n",
       "      <td>-0.010790</td>\n",
       "      <td>-0.020546</td>\n",
       "      <td>0.002912</td>\n",
       "    </tr>\n",
       "    <tr>\n",
       "      <th>3</th>\n",
       "      <td>4/4/1994</td>\n",
       "      <td>-0.044394</td>\n",
       "      <td>0.041945</td>\n",
       "      <td>0.002175</td>\n",
       "      <td>-0.073436</td>\n",
       "      <td>-0.059586</td>\n",
       "      <td>-0.117886</td>\n",
       "      <td>0.002286</td>\n",
       "      <td>0.022294</td>\n",
       "      <td>0.038426</td>\n",
       "      <td>-0.031135</td>\n",
       "      <td>0.004967</td>\n",
       "      <td>0.003062</td>\n",
       "    </tr>\n",
       "    <tr>\n",
       "      <th>4</th>\n",
       "      <td>5/2/1994</td>\n",
       "      <td>-0.009572</td>\n",
       "      <td>0.031889</td>\n",
       "      <td>0.015763</td>\n",
       "      <td>0.010089</td>\n",
       "      <td>0.121734</td>\n",
       "      <td>-0.018289</td>\n",
       "      <td>0.003406</td>\n",
       "      <td>0.041424</td>\n",
       "      <td>0.064941</td>\n",
       "      <td>0.057625</td>\n",
       "      <td>0.005337</td>\n",
       "      <td>0.003444</td>\n",
       "    </tr>\n",
       "  </tbody>\n",
       "</table>\n",
       "</div>"
      ],
      "text/plain": [
       "       Date      AAPL      ADBE       ADP       AMD      DELL       GTW  \\\n",
       "0  1/3/1994  0.048913  0.135255 -0.022896  0.062311 -0.012589  0.089236   \n",
       "1  2/1/1994  0.048849 -0.014934 -0.009507  0.020685  0.059586 -0.002166   \n",
       "2  3/1/1994 -0.040761 -0.078928  0.000873  0.162273  0.000000 -0.071433   \n",
       "3  4/4/1994 -0.044394  0.041945  0.002175 -0.073436 -0.059586 -0.117886   \n",
       "4  5/2/1994 -0.009572  0.031889  0.015763  0.010089  0.121734 -0.018289   \n",
       "\n",
       "         HP       IBM      MSFT      ORCL     sp500     3mTCM  \n",
       "0 -0.004332  0.000000  0.023481  0.049109  0.013795  0.002480  \n",
       "1 -0.014386 -0.026850 -0.013543  0.010790 -0.013337  0.002705  \n",
       "2 -0.007948  0.014169  0.011634 -0.010790 -0.020546  0.002912  \n",
       "3  0.002286  0.022294  0.038426 -0.031135  0.004967  0.003062  \n",
       "4  0.003406  0.041424  0.064941  0.057625  0.005337  0.003444  "
      ]
     },
     "execution_count": 7,
     "metadata": {},
     "output_type": "execute_result"
    }
   ],
   "source": [
    "capm = pd.concat([logRet, capmRef[['sp500', '3mTCM']]], axis = 1)\n",
    "capm.head()"
   ]
  },
  {
   "cell_type": "code",
   "execution_count": 8,
   "id": "84b51535",
   "metadata": {},
   "outputs": [
    {
     "data": {
      "text/html": [
       "<div>\n",
       "<style scoped>\n",
       "    .dataframe tbody tr th:only-of-type {\n",
       "        vertical-align: middle;\n",
       "    }\n",
       "\n",
       "    .dataframe tbody tr th {\n",
       "        vertical-align: top;\n",
       "    }\n",
       "\n",
       "    .dataframe thead th {\n",
       "        text-align: right;\n",
       "    }\n",
       "</style>\n",
       "<table border=\"1\" class=\"dataframe\">\n",
       "  <thead>\n",
       "    <tr style=\"text-align: right;\">\n",
       "      <th></th>\n",
       "      <th>AAPL</th>\n",
       "      <th>ADBE</th>\n",
       "      <th>ADP</th>\n",
       "      <th>AMD</th>\n",
       "      <th>DELL</th>\n",
       "      <th>GTW</th>\n",
       "      <th>HP</th>\n",
       "      <th>IBM</th>\n",
       "      <th>MSFT</th>\n",
       "      <th>ORCL</th>\n",
       "      <th>sp500</th>\n",
       "    </tr>\n",
       "  </thead>\n",
       "  <tbody>\n",
       "    <tr>\n",
       "      <th>0</th>\n",
       "      <td>0.046433</td>\n",
       "      <td>0.132775</td>\n",
       "      <td>-0.025376</td>\n",
       "      <td>0.059831</td>\n",
       "      <td>-0.015069</td>\n",
       "      <td>0.086756</td>\n",
       "      <td>-0.006812</td>\n",
       "      <td>-0.002480</td>\n",
       "      <td>0.021001</td>\n",
       "      <td>0.046629</td>\n",
       "      <td>0.011315</td>\n",
       "    </tr>\n",
       "    <tr>\n",
       "      <th>1</th>\n",
       "      <td>0.046144</td>\n",
       "      <td>-0.017639</td>\n",
       "      <td>-0.012212</td>\n",
       "      <td>0.017980</td>\n",
       "      <td>0.056881</td>\n",
       "      <td>-0.004871</td>\n",
       "      <td>-0.017090</td>\n",
       "      <td>-0.029555</td>\n",
       "      <td>-0.016247</td>\n",
       "      <td>0.008086</td>\n",
       "      <td>-0.016042</td>\n",
       "    </tr>\n",
       "    <tr>\n",
       "      <th>2</th>\n",
       "      <td>-0.043673</td>\n",
       "      <td>-0.081841</td>\n",
       "      <td>-0.002039</td>\n",
       "      <td>0.159360</td>\n",
       "      <td>-0.002912</td>\n",
       "      <td>-0.074346</td>\n",
       "      <td>-0.010861</td>\n",
       "      <td>0.011257</td>\n",
       "      <td>0.008721</td>\n",
       "      <td>-0.013703</td>\n",
       "      <td>-0.023458</td>\n",
       "    </tr>\n",
       "    <tr>\n",
       "      <th>3</th>\n",
       "      <td>-0.047456</td>\n",
       "      <td>0.038883</td>\n",
       "      <td>-0.000887</td>\n",
       "      <td>-0.076498</td>\n",
       "      <td>-0.062648</td>\n",
       "      <td>-0.120948</td>\n",
       "      <td>-0.000776</td>\n",
       "      <td>0.019232</td>\n",
       "      <td>0.035364</td>\n",
       "      <td>-0.034197</td>\n",
       "      <td>0.001905</td>\n",
       "    </tr>\n",
       "    <tr>\n",
       "      <th>4</th>\n",
       "      <td>-0.013016</td>\n",
       "      <td>0.028445</td>\n",
       "      <td>0.012319</td>\n",
       "      <td>0.006645</td>\n",
       "      <td>0.118290</td>\n",
       "      <td>-0.021733</td>\n",
       "      <td>-0.000038</td>\n",
       "      <td>0.037979</td>\n",
       "      <td>0.061497</td>\n",
       "      <td>0.054181</td>\n",
       "      <td>0.001893</td>\n",
       "    </tr>\n",
       "  </tbody>\n",
       "</table>\n",
       "</div>"
      ],
      "text/plain": [
       "       AAPL      ADBE       ADP       AMD      DELL       GTW        HP  \\\n",
       "0  0.046433  0.132775 -0.025376  0.059831 -0.015069  0.086756 -0.006812   \n",
       "1  0.046144 -0.017639 -0.012212  0.017980  0.056881 -0.004871 -0.017090   \n",
       "2 -0.043673 -0.081841 -0.002039  0.159360 -0.002912 -0.074346 -0.010861   \n",
       "3 -0.047456  0.038883 -0.000887 -0.076498 -0.062648 -0.120948 -0.000776   \n",
       "4 -0.013016  0.028445  0.012319  0.006645  0.118290 -0.021733 -0.000038   \n",
       "\n",
       "        IBM      MSFT      ORCL     sp500  \n",
       "0 -0.002480  0.021001  0.046629  0.011315  \n",
       "1 -0.029555 -0.016247  0.008086 -0.016042  \n",
       "2  0.011257  0.008721 -0.013703 -0.023458  \n",
       "3  0.019232  0.035364 -0.034197  0.001905  \n",
       "4  0.037979  0.061497  0.054181  0.001893  "
      ]
     },
     "execution_count": 8,
     "metadata": {},
     "output_type": "execute_result"
    }
   ],
   "source": [
    "capmAdjusted = capm\n",
    "capmAdjusted = capmAdjusted.iloc[:, 1:12].subtract(capm['3mTCM'], axis = 'index')\n",
    "capmAdjusted.head()"
   ]
  },
  {
   "cell_type": "code",
   "execution_count": 51,
   "id": "731ed396",
   "metadata": {},
   "outputs": [
    {
     "data": {
      "text/html": [
       "<div>\n",
       "<style scoped>\n",
       "    .dataframe tbody tr th:only-of-type {\n",
       "        vertical-align: middle;\n",
       "    }\n",
       "\n",
       "    .dataframe tbody tr th {\n",
       "        vertical-align: top;\n",
       "    }\n",
       "\n",
       "    .dataframe thead th {\n",
       "        text-align: right;\n",
       "    }\n",
       "</style>\n",
       "<table border=\"1\" class=\"dataframe\">\n",
       "  <thead>\n",
       "    <tr style=\"text-align: right;\">\n",
       "      <th></th>\n",
       "      <th>AAPL</th>\n",
       "      <th>ADBE</th>\n",
       "      <th>ADP</th>\n",
       "      <th>AMD</th>\n",
       "      <th>DELL</th>\n",
       "      <th>GTW</th>\n",
       "      <th>HP</th>\n",
       "      <th>IBM</th>\n",
       "      <th>MSFT</th>\n",
       "      <th>ORCL</th>\n",
       "      <th>sp500</th>\n",
       "    </tr>\n",
       "  </thead>\n",
       "  <tbody>\n",
       "    <tr>\n",
       "      <th>49</th>\n",
       "      <td>0.106489</td>\n",
       "      <td>0.055825</td>\n",
       "      <td>0.004660</td>\n",
       "      <td>0.061484</td>\n",
       "      <td>0.144086</td>\n",
       "      <td>0.063109</td>\n",
       "      <td>0.051994</td>\n",
       "      <td>0.020960</td>\n",
       "      <td>0.051002</td>\n",
       "      <td>0.019719</td>\n",
       "      <td>0.024905</td>\n",
       "    </tr>\n",
       "    <tr>\n",
       "      <th>50</th>\n",
       "      <td>0.061818</td>\n",
       "      <td>0.005328</td>\n",
       "      <td>0.043927</td>\n",
       "      <td>0.088045</td>\n",
       "      <td>-0.018059</td>\n",
       "      <td>0.022239</td>\n",
       "      <td>0.029767</td>\n",
       "      <td>-0.006520</td>\n",
       "      <td>0.019537</td>\n",
       "      <td>0.104019</td>\n",
       "      <td>0.016763</td>\n",
       "    </tr>\n",
       "    <tr>\n",
       "      <th>51</th>\n",
       "      <td>-0.006649</td>\n",
       "      <td>0.041249</td>\n",
       "      <td>-0.011266</td>\n",
       "      <td>-0.023993</td>\n",
       "      <td>0.072106</td>\n",
       "      <td>0.095534</td>\n",
       "      <td>-0.015286</td>\n",
       "      <td>0.043314</td>\n",
       "      <td>-0.000960</td>\n",
       "      <td>-0.090625</td>\n",
       "      <td>-0.000200</td>\n",
       "    </tr>\n",
       "    <tr>\n",
       "      <th>52</th>\n",
       "      <td>-0.015740</td>\n",
       "      <td>-0.102837</td>\n",
       "      <td>-0.026173</td>\n",
       "      <td>-0.156209</td>\n",
       "      <td>0.004573</td>\n",
       "      <td>-0.119892</td>\n",
       "      <td>-0.084210</td>\n",
       "      <td>0.002737</td>\n",
       "      <td>-0.030557</td>\n",
       "      <td>-0.043139</td>\n",
       "      <td>-0.012446</td>\n",
       "    </tr>\n",
       "    <tr>\n",
       "      <th>53</th>\n",
       "      <td>0.027904</td>\n",
       "      <td>0.022500</td>\n",
       "      <td>0.055595</td>\n",
       "      <td>-0.063531</td>\n",
       "      <td>0.047479</td>\n",
       "      <td>0.041037</td>\n",
       "      <td>-0.055163</td>\n",
       "      <td>-0.014200</td>\n",
       "      <td>0.102262</td>\n",
       "      <td>0.012086</td>\n",
       "      <td>0.012518</td>\n",
       "    </tr>\n",
       "  </tbody>\n",
       "</table>\n",
       "</div>"
      ],
      "text/plain": [
       "        AAPL      ADBE       ADP       AMD      DELL       GTW        HP  \\\n",
       "49  0.106489  0.055825  0.004660  0.061484  0.144086  0.063109  0.051994   \n",
       "50  0.061818  0.005328  0.043927  0.088045 -0.018059  0.022239  0.029767   \n",
       "51 -0.006649  0.041249 -0.011266 -0.023993  0.072106  0.095534 -0.015286   \n",
       "52 -0.015740 -0.102837 -0.026173 -0.156209  0.004573 -0.119892 -0.084210   \n",
       "53  0.027904  0.022500  0.055595 -0.063531  0.047479  0.041037 -0.055163   \n",
       "\n",
       "         IBM      MSFT      ORCL     sp500  \n",
       "49  0.020960  0.051002  0.019719  0.024905  \n",
       "50 -0.006520  0.019537  0.104019  0.016763  \n",
       "51  0.043314 -0.000960 -0.090625 -0.000200  \n",
       "52  0.002737 -0.030557 -0.043139 -0.012446  \n",
       "53 -0.014200  0.102262  0.012086  0.012518  "
      ]
     },
     "execution_count": 51,
     "metadata": {},
     "output_type": "execute_result"
    }
   ],
   "source": [
    "cutoffIdx = 54\n",
    "period1Idx = range(0, cutoffIdx)\n",
    "period2Idx = range(cutoffIdx, capmAdjusted.shape[0])\n",
    "capmPeriod1 = capmAdjusted.iloc[period1Idx, :]\n",
    "capmPeriod2 = capmAdjusted.iloc[period2Idx, :]"
   ]
  },
  {
   "cell_type": "code",
   "execution_count": 60,
   "id": "59e2460c",
   "metadata": {},
   "outputs": [],
   "source": [
    "beta1 = [None]*(capmAdjusted.shape[1]-1)\n",
    "beta2 = [None]*(capmAdjusted.shape[1]-1)\n",
    "X1 = capmPeriod1['sp500'].to_numpy().reshape(-1,1)\n",
    "X2 = capmPeriod2['sp500'].to_numpy().reshape(-1,1)\n",
    "for idx in range(0, len(beta1)):\n",
    "    y1 = capmPeriod1.iloc[:, idx].to_numpy().reshape(-1,1)\n",
    "    y2 = capmPeriod2.iloc[:, idx].to_numpy().reshape(-1,1)\n",
    "    model1 = sm.OLS(y1, sm.add_constant(X1))\n",
    "    model2 = sm.OLS(y2, sm.add_constant(X2))\n",
    "    beta1[idx] = model1.fit()\n",
    "    beta2[idx] = model2.fit()"
   ]
  },
  {
   "cell_type": "code",
   "execution_count": 63,
   "id": "a6280d6b",
   "metadata": {},
   "outputs": [
    {
     "name": "stdout",
     "output_type": "stream",
     "text": [
      "[-0.00217437  1.25695313]\n",
      "[0.00931438 1.65027584]\n"
     ]
    }
   ],
   "source": [
    "print(beta1[1].params)\n",
    "print(beta2[1].params)"
   ]
  },
  {
   "cell_type": "code",
   "execution_count": 62,
   "id": "90625c42",
   "metadata": {},
   "outputs": [
    {
     "name": "stdout",
     "output_type": "stream",
     "text": [
      "1.8088115333080563 % \n",
      "0.3129175602473369 % \n",
      "0.4527453275162159 % \n",
      "2.265497640585106 % \n",
      "0.10353155409252508 % \n",
      "0.8518844542942016 % \n",
      "0.182481830487025 % \n",
      "0.21896509018907453 % \n",
      "0.17421422588942279 % \n",
      "0.8944908487219605\n"
     ]
    }
   ],
   "source": [
    "diffBeta = list()\n",
    "for i, j in zip(beta1, beta2):\n",
    "    diffBeta.append(abs((j.params[1] - i.params[1])/i.params[1]))\n",
    "    \n",
    "print(*diffBeta, sep=' % \\n')"
   ]
  },
  {
   "cell_type": "markdown",
   "id": "f856b00c",
   "metadata": {},
   "source": [
    "As we can see, the Beta's all appear to differ by at least 10% percent and at most 226%, and note that all of the beta's appear to increase from time period1 to time period2."
   ]
  },
  {
   "cell_type": "code",
   "execution_count": 64,
   "id": "a8c3c528",
   "metadata": {},
   "outputs": [],
   "source": [
    "#Now lets try to estimate beta as a dynamic linear model, first lets create our subroutine \n",
    "#computing Kalman Filter values and estimates\n",
    "def singleKalmanFilter(beta0, betaVariance, stockObs, marketObs, obsVariance):\n",
    "    n = len(marketObs)\n",
    "    dynamicBeta = [None]*n\n",
    "    \n",
    "    priorVariance_i = betaVariance\n",
    "    priorBeta_i = beta0\n",
    "    \n",
    "    for i in range(0, n):\n",
    "        K_i = computeKalman(obsVariance, priorVariance_i, marketObs.iloc[i])\n",
    "        posteriorBeta = updatePriorBeta(priorBeta_i, K_i, marketObs.iloc[i], stockObs.iloc[i])\n",
    "        posteriorVar_i = updatePriorVar(K_i, priorVariance_i, marketObs.iloc[i], obsVariance)\n",
    "        \n",
    "        priorBeta_i = posteriorBeta\n",
    "        priorVariance_i = posteriorVar_i\n",
    "        \n",
    "        dynamicBeta[i] = priorBeta_i\n",
    "        \n",
    "    return dynamicBeta\n"
   ]
  },
  {
   "cell_type": "code",
   "execution_count": 65,
   "id": "571aa188",
   "metadata": {},
   "outputs": [],
   "source": [
    "def computeKalman(obsVariance, priorVariance_i, marketObs):\n",
    "    retval = priorVariance_i * marketObs\n",
    "    retval /= (obsVariance + (priorVariance_i*(marketObs**2)))\n",
    "    return retval\n",
    "    \n",
    "def updatePriorBeta(priorBeta_i, K_i, marketObs, stockObs):\n",
    "    retval = priorBeta_i + K_i*(stockObs - priorBeta_i*marketObs)\n",
    "    return retval\n",
    "    \n",
    "def updatePriorVar(K_i, priorVariance_i, marketObs, obsVariance):\n",
    "    retval = ((1-K_i*marketObs)**2)*priorVariance_i\n",
    "    retval += (1+K_i**2)*obsVariance\n",
    "    return retval"
   ]
  },
  {
   "cell_type": "code",
   "execution_count": 66,
   "id": "0e89b1a0",
   "metadata": {},
   "outputs": [],
   "source": [
    "#Lets Try it out on one of the stocks, AAPL\n",
    "estimatedBeta = beta1[0].params[1]\n",
    "estimatedBetaVar = beta1[0].bse[1]\n",
    "obsVariance = 0.2\n",
    "stockObs = capmPeriod2['AAPL']\n",
    "marketObs = capmPeriod2['sp500']\n",
    "\n",
    "dynamicBetaAAPL = singleKalmanFilter(estimatedBeta, estimatedBetaVar, stockObs,\n",
    "                                    marketObs, obsVariance)\n"
   ]
  },
  {
   "cell_type": "code",
   "execution_count": 74,
   "id": "50d367b2",
   "metadata": {},
   "outputs": [
    {
     "data": {
      "text/plain": [
       "Text(0, 0.5, 'Dynamic Beta')"
      ]
     },
     "execution_count": 74,
     "metadata": {},
     "output_type": "execute_result"
    },
    {
     "data": {
      "image/png": "[encoded data removed]",
      "text/plain": [
       "<Figure size 432x288 with 1 Axes>"
      ]
     },
     "metadata": {
      "needs_background": "light"
     },
     "output_type": "display_data"
    }
   ],
   "source": [
    "plt.plot(dynamicBetaAAPL, 'b-.')\n",
    "plt.xlabel(\"Time (Months since July 1998)\")\n",
    "plt.ylabel(\"Dynamic Beta\")"
   ]
  },
  {
   "cell_type": "code",
   "execution_count": 70,
   "id": "21c5f773",
   "metadata": {},
   "outputs": [],
   "source": [
    "dynamicBetaList = [None]*(capmPeriod2.shape[1]-1)\n",
    "for idx, i in enumerate(dynamicBetaList):\n",
    "    estimatedBeta = beta1[idx].params[1]\n",
    "    estimatedBetaVar = beta1[idx].bse[1]\n",
    "    dynamicBetaList[idx] = singleKalmanFilter(estimatedBeta, estimatedBetaVar,\n",
    "                                              capmPeriod2.iloc[:,idx], \n",
    "                                              capmPeriod2.iloc[:,-1], obsVariance)\n",
    "    "
   ]
  },
  {
   "cell_type": "code",
   "execution_count": 78,
   "id": "46384785",
   "metadata": {},
   "outputs": [
    {
     "data": {
      "image/png": "[encoded data removed]",
      "text/plain": [
       "<Figure size 432x288 with 1 Axes>"
      ]
     },
     "metadata": {
      "needs_background": "light"
     },
     "output_type": "display_data"
    }
   ],
   "source": [
    "names = capmPeriod2.iloc[:, 0:-1].columns\n",
    "\n",
    "plt.xlabel(\"Time (Months since July 1998)\")\n",
    "plt.ylabel(\"Dynamic Beta\")\n",
    "plt.title(\"How Market Coefficients Change\")\n",
    "for i in range(0, len(dynamicBetaList)):\n",
    "    plt.plot(dynamicBetaList[i], '-.')\n",
    "plt.legend(names, bbox_to_anchor=(1.05,1))\n",
    "plt.show()"
   ]
  }
 ],
 "metadata": {
  "kernelspec": {
   "display_name": "Python 3 (ipykernel)",
   "language": "python",
   "name": "python3"
  },
  "language_info": {
   "codemirror_mode": {
    "name": "ipython",
    "version": 3
   },
   "file_extension": ".py",
   "mimetype": "text/x-python",
   "name": "python",
   "nbconvert_exporter": "python",
   "pygments_lexer": "ipython3",
   "version": "3.8.11"
  }
 },
 "nbformat": 4,
 "nbformat_minor": 5
}
