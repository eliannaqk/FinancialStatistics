{
 "cells": [
  {
   "cell_type": "markdown",
   "id": "da733b8a",
   "metadata": {},
   "source": [
    "Exercise 3.5:\n",
    "\n",
    "Calculating Efficient Frontiers and Bootstrapping Efficient Frontiers"
   ]
  },
  {
   "cell_type": "code",
   "execution_count": 203,
   "id": "721cdc3d",
   "metadata": {},
   "outputs": [],
   "source": [
    "#Lets First Load our Libraries\n",
    "import pandas as pd\n",
    "import numpy as np\n",
    "from matplotlib import pyplot as plt\n"
   ]
  },
  {
   "cell_type": "code",
   "execution_count": 161,
   "id": "195c6feb",
   "metadata": {},
   "outputs": [
    {
     "data": {
      "text/html": [
       "<div>\n",
       "<style scoped>\n",
       "    .dataframe tbody tr th:only-of-type {\n",
       "        vertical-align: middle;\n",
       "    }\n",
       "\n",
       "    .dataframe tbody tr th {\n",
       "        vertical-align: top;\n",
       "    }\n",
       "\n",
       "    .dataframe thead th {\n",
       "        text-align: right;\n",
       "    }\n",
       "</style>\n",
       "<table border=\"1\" class=\"dataframe\">\n",
       "  <thead>\n",
       "    <tr style=\"text-align: right;\">\n",
       "      <th></th>\n",
       "      <th>Date</th>\n",
       "      <th>AAPL</th>\n",
       "      <th>ADBE</th>\n",
       "      <th>ADP</th>\n",
       "      <th>AMD</th>\n",
       "      <th>DELL</th>\n",
       "      <th>GTW</th>\n",
       "      <th>HP</th>\n",
       "      <th>IBM</th>\n",
       "      <th>MSFT</th>\n",
       "      <th>ORCL</th>\n",
       "    </tr>\n",
       "  </thead>\n",
       "  <tbody>\n",
       "    <tr>\n",
       "      <th>0</th>\n",
       "      <td>1/3/1994</td>\n",
       "      <td>0.048913</td>\n",
       "      <td>0.135255</td>\n",
       "      <td>-0.022896</td>\n",
       "      <td>0.062311</td>\n",
       "      <td>-0.012589</td>\n",
       "      <td>0.089236</td>\n",
       "      <td>-0.004332</td>\n",
       "      <td>0.000000</td>\n",
       "      <td>0.023481</td>\n",
       "      <td>0.049109</td>\n",
       "    </tr>\n",
       "    <tr>\n",
       "      <th>1</th>\n",
       "      <td>2/1/1994</td>\n",
       "      <td>0.048849</td>\n",
       "      <td>-0.014934</td>\n",
       "      <td>-0.009507</td>\n",
       "      <td>0.020685</td>\n",
       "      <td>0.059586</td>\n",
       "      <td>-0.002166</td>\n",
       "      <td>-0.014386</td>\n",
       "      <td>-0.026850</td>\n",
       "      <td>-0.013543</td>\n",
       "      <td>0.010790</td>\n",
       "    </tr>\n",
       "    <tr>\n",
       "      <th>2</th>\n",
       "      <td>3/1/1994</td>\n",
       "      <td>-0.040761</td>\n",
       "      <td>-0.078928</td>\n",
       "      <td>0.000873</td>\n",
       "      <td>0.162273</td>\n",
       "      <td>0.000000</td>\n",
       "      <td>-0.071433</td>\n",
       "      <td>-0.007948</td>\n",
       "      <td>0.014169</td>\n",
       "      <td>0.011634</td>\n",
       "      <td>-0.010790</td>\n",
       "    </tr>\n",
       "    <tr>\n",
       "      <th>3</th>\n",
       "      <td>4/4/1994</td>\n",
       "      <td>-0.044394</td>\n",
       "      <td>0.041945</td>\n",
       "      <td>0.002175</td>\n",
       "      <td>-0.073436</td>\n",
       "      <td>-0.059586</td>\n",
       "      <td>-0.117886</td>\n",
       "      <td>0.002286</td>\n",
       "      <td>0.022294</td>\n",
       "      <td>0.038426</td>\n",
       "      <td>-0.031135</td>\n",
       "    </tr>\n",
       "    <tr>\n",
       "      <th>4</th>\n",
       "      <td>5/2/1994</td>\n",
       "      <td>-0.009572</td>\n",
       "      <td>0.031889</td>\n",
       "      <td>0.015763</td>\n",
       "      <td>0.010089</td>\n",
       "      <td>0.121734</td>\n",
       "      <td>-0.018289</td>\n",
       "      <td>0.003406</td>\n",
       "      <td>0.041424</td>\n",
       "      <td>0.064941</td>\n",
       "      <td>0.057625</td>\n",
       "    </tr>\n",
       "  </tbody>\n",
       "</table>\n",
       "</div>"
      ],
      "text/plain": [
       "       Date      AAPL      ADBE       ADP       AMD      DELL       GTW  \\\n",
       "0  1/3/1994  0.048913  0.135255 -0.022896  0.062311 -0.012589  0.089236   \n",
       "1  2/1/1994  0.048849 -0.014934 -0.009507  0.020685  0.059586 -0.002166   \n",
       "2  3/1/1994 -0.040761 -0.078928  0.000873  0.162273  0.000000 -0.071433   \n",
       "3  4/4/1994 -0.044394  0.041945  0.002175 -0.073436 -0.059586 -0.117886   \n",
       "4  5/2/1994 -0.009572  0.031889  0.015763  0.010089  0.121734 -0.018289   \n",
       "\n",
       "         HP       IBM      MSFT      ORCL  \n",
       "0 -0.004332  0.000000  0.023481  0.049109  \n",
       "1 -0.014386 -0.026850 -0.013543  0.010790  \n",
       "2 -0.007948  0.014169  0.011634 -0.010790  \n",
       "3  0.002286  0.022294  0.038426 -0.031135  \n",
       "4  0.003406  0.041424  0.064941  0.057625  "
      ]
     },
     "execution_count": 161,
     "metadata": {},
     "output_type": "execute_result"
    }
   ],
   "source": [
    "logRet = pd.read_csv(\"m_logret_10stocks.txt\", sep = \"\\t\")\n",
    "numAssets = len(logRet.columns) - 1\n",
    "numObs = logRet.shape[0]\n",
    "logRet.head()"
   ]
  },
  {
   "cell_type": "code",
   "execution_count": 150,
   "id": "732c2b09",
   "metadata": {},
   "outputs": [],
   "source": [
    "#need to define a function that will return sample statistics given a dataset\n",
    "\n",
    "#Note, the \"1:\" in the splicing excludes the date column from the calculation\n",
    "def sampleStat(data):\n",
    "    sampleMean = data.iloc[:,1:].mean(axis = 0)\n",
    "    sampleCov = data.iloc[:, 1:].cov()\n",
    "    return (sampleMean, sampleCov)"
   ]
  },
  {
   "cell_type": "code",
   "execution_count": 151,
   "id": "aa1c39de",
   "metadata": {},
   "outputs": [
    {
     "name": "stdout",
     "output_type": "stream",
     "text": [
      "AAPL    0.006894\n",
      "ADBE    0.007686\n",
      "ADP     0.003922\n",
      "AMD     0.002309\n",
      "DELL    0.011894\n",
      "GTW    -0.002486\n",
      "HP      0.005012\n",
      "IBM     0.005677\n",
      "MSFT    0.007293\n",
      "ORCL    0.006934\n",
      "dtype: float64\n"
     ]
    }
   ],
   "source": [
    "#For now, lets just calculate these statistics on the time series as a whole\n",
    "sampleMean, sampleCov = sampleStat(logRet)\n",
    "print(sampleMean)\n"
   ]
  },
  {
   "cell_type": "code",
   "execution_count": 152,
   "id": "49b69b43",
   "metadata": {},
   "outputs": [],
   "source": [
    "#Lets define a function that takes in a sampleMean, sampleCov, targetReturn, and risk free rate\n",
    "#and outputs the optimal Weight portfolio for the given expected output\n",
    "\n",
    "#assume retMean, retCov, riskFree are given as matrices\n",
    "def optimalWeight(retMean, retCov, targetReturn, riskFree):\n",
    "    inverseCov = np.linalg.inv(retCov)\n",
    "    riskAdjMean = np.subtract(retMean, riskFree)\n",
    "        \n",
    "    weightDenominator = np.matmul(np.transpose(riskAdjMean),np.matmul(inverseCov, riskAdjMean))\n",
    "    weightCoeff = (targetReturn - riskFree[0,0])/ weightDenominator[0,0]\n",
    "    optimalWeights = weightCoeff * np.matmul(inverseCov, riskAdjMean)\n",
    "    return optimalWeights"
   ]
  },
  {
   "cell_type": "code",
   "execution_count": 153,
   "id": "38a7d429",
   "metadata": {},
   "outputs": [],
   "source": [
    "rf = 0.0\n",
    "targetReturn = 0.3\n",
    "\n",
    "#Turn needed df's into matrices for easy computation\n",
    "riskFree = np.full((numAssets,1), rf)\n",
    "sampleMeanMatrix = sampleMean.to_numpy()\n",
    "sampleMeanMatrix = sampleMeanMatrix.reshape((numAssets,1))\n",
    "sampleCovMatrix = sampleCov.to_numpy()\n",
    "\n",
    "#Call optimal function to find optimal weights for tReturn\n",
    "optimalWeights = optimalWeight(sampleMeanMatrix, sampleCovMatrix, targetReturn, riskFree)"
   ]
  },
  {
   "cell_type": "code",
   "execution_count": 154,
   "id": "a13ac6f5",
   "metadata": {},
   "outputs": [
    {
     "name": "stdout",
     "output_type": "stream",
     "text": [
      "[[ 2.24572914]\n",
      " [ 3.93290198]\n",
      " [10.22236781]\n",
      " [-2.71968247]\n",
      " [10.83002332]\n",
      " [-8.78400811]\n",
      " [ 2.73156011]\n",
      " [ 3.19481   ]\n",
      " [ 4.50290193]\n",
      " [ 0.74283374]]\n"
     ]
    }
   ],
   "source": [
    "print(optimalWeights)"
   ]
  },
  {
   "cell_type": "code",
   "execution_count": 155,
   "id": "34200055",
   "metadata": {},
   "outputs": [
    {
     "name": "stdout",
     "output_type": "stream",
     "text": [
      "Expected Return: 0.29999999999999993\n",
      "Expected Variance: 0.9099730003217619\n"
     ]
    }
   ],
   "source": [
    "#Let's check that our expected return is correct, and the associated variance of the portfoli\n",
    "expectedReturn = np.matmul(np.transpose(optimalWeights), sampleMeanMatrix)\n",
    "expectedVariance = np.matmul(np.transpose(optimalWeights), np.matmul(sampleCovMatrix, optimalWeights))\n",
    "\n",
    "print(\"Expected Return: \" + str(expectedReturn[0,0]))\n",
    "print(\"Expected Variance: \" + str(expectedVariance[0,0]))"
   ]
  },
  {
   "cell_type": "code",
   "execution_count": 180,
   "id": "4c06e93c",
   "metadata": {},
   "outputs": [],
   "source": [
    "def bootStrapWeights(data, statisticFunction, targetReturn, riskFree, B = 500):\n",
    "    #initialize some constants\n",
    "    cumWeights = np.zeros((numAssets,1))\n",
    "    riskFree = np.full((numAssets,1), rf)\n",
    "    \n",
    "    for i in range(1,B):\n",
    "        iMean, iCov = sampleStat(data.sample(n = numObs, replace = True))\n",
    "        iMeanMatrix = iMean.to_numpy()\n",
    "        iMeanMatrix = iMeanMatrix.reshape((numAssets,1))\n",
    "        iCovMatrix = iCov.to_numpy()\n",
    "        iOptWeight = optimalWeight(iMeanMatrix, iCovMatrix, targetReturn, riskFree)\n",
    "        cumWeights = np.add(cumWeights, iOptWeight)\n",
    "    \n",
    "    cumWeights = cumWeights * (1.0/B)\n",
    "    return cumWeights\n",
    "    "
   ]
  },
  {
   "cell_type": "code",
   "execution_count": 182,
   "id": "f0bbb8e0",
   "metadata": {},
   "outputs": [
    {
     "name": "stdout",
     "output_type": "stream",
     "text": [
      "[[ 1.74179998]\n",
      " [ 2.66662429]\n",
      " [ 6.0332421 ]\n",
      " [-1.87506584]\n",
      " [ 6.78533864]\n",
      " [-5.54498388]\n",
      " [ 1.66762035]\n",
      " [ 2.30966624]\n",
      " [ 3.23992156]\n",
      " [ 0.47081763]]\n",
      "[[ 2.24572914]\n",
      " [ 3.93290198]\n",
      " [10.22236781]\n",
      " [-2.71968247]\n",
      " [10.83002332]\n",
      " [-8.78400811]\n",
      " [ 2.73156011]\n",
      " [ 3.19481   ]\n",
      " [ 4.50290193]\n",
      " [ 0.74283374]]\n"
     ]
    }
   ],
   "source": [
    "bootWeights = bootStrapWeights(logRet, sampleStat, targetReturn, riskFree)\n",
    "print(bootWeights)\n",
    "print(optimalWeights)"
   ]
  },
  {
   "cell_type": "code",
   "execution_count": 186,
   "id": "d78c0758",
   "metadata": {},
   "outputs": [],
   "source": [
    "#To create the efficient frontier, we need to create a grid of expected Returns\n",
    "#and compute the minimum variance for each\n",
    "\n",
    "mu = np.linspace(-0.5,0.5,101)\n",
    "sig = np.empty(len(mu))\n",
    "for idx, optRet in enumerate(mu):\n",
    "    iOptWeight = optimalWeight(sampleMeanMatrix, sampleCovMatrix, optRet, riskFree)\n",
    "    isig = np.matmul(np.transpose(iOptWeight), np.matmul(sampleCovMatrix,iOptWeight))\n",
    "    sig[idx] = isig\n",
    "    "
   ]
  },
  {
   "cell_type": "code",
   "execution_count": 195,
   "id": "587f9fb1",
   "metadata": {},
   "outputs": [
    {
     "data": {
      "text/plain": [
       "<function matplotlib.pyplot.show(close=None, block=None)>"
      ]
     },
     "execution_count": 195,
     "metadata": {},
     "output_type": "execute_result"
    },
    {
     "data": {
      "image/png": "[encoded data removed]",
      "text/plain": [
       "<Figure size 432x288 with 1 Axes>"
      ]
     },
     "metadata": {
      "needs_background": "light"
     },
     "output_type": "display_data"
    }
   ],
   "source": [
    "#Plot this EF\n",
    "\n",
    "plt.title(\"Plug-In Efficient Frontier\") \n",
    "plt.xlabel(\"Variance\") \n",
    "plt.ylabel(\"Expected Return\")\n",
    "plt.plot(sig, mu, marker = \"o\", markersize = 4, label = \"Plug-in\")\n",
    "plt.show"
   ]
  },
  {
   "cell_type": "code",
   "execution_count": 198,
   "id": "921942bd",
   "metadata": {},
   "outputs": [],
   "source": [
    "#Now do the same for the bootstrapped samples\n",
    "bootSig = np.empty(len(mu))\n",
    "for idx, optRet in enumerate(mu):\n",
    "    iOptWeight = bootStrapWeights(logRet, sampleStat, optRet, riskFree)\n",
    "    isig = np.matmul(np.transpose(iOptWeight), np.matmul(sampleCovMatrix,iOptWeight))\n",
    "    bootSig[idx] = isig\n",
    "\n"
   ]
  },
  {
   "cell_type": "code",
   "execution_count": 200,
   "id": "3d799a83",
   "metadata": {},
   "outputs": [
    {
     "data": {
      "text/plain": [
       "<function matplotlib.pyplot.show(close=None, block=None)>"
      ]
     },
     "execution_count": 200,
     "metadata": {},
     "output_type": "execute_result"
    },
    {
     "data": {
      "image/png": "[encoded data removed]",
      "text/plain": [
       "<Figure size 432x288 with 1 Axes>"
      ]
     },
     "metadata": {
      "needs_background": "light"
     },
     "output_type": "display_data"
    }
   ],
   "source": [
    "plt.title(\"Bootstrapped Efficient Frontier\") \n",
    "plt.xlabel(\"Variance\") \n",
    "plt.ylabel(\"Expected Return\")\n",
    "plt.plot(bootSig, mu, color = \"red\", marker = \"o\", markersize = 4, label = \"Bootstrap\")\n",
    "plt.show"
   ]
  },
  {
   "cell_type": "code",
   "execution_count": 201,
   "id": "8b481f56",
   "metadata": {},
   "outputs": [
    {
     "data": {
      "text/plain": [
       "<function matplotlib.pyplot.show(close=None, block=None)>"
      ]
     },
     "execution_count": 201,
     "metadata": {},
     "output_type": "execute_result"
    },
    {
     "data": {
      "image/png": "[encoded data removed]",
      "text/plain": [
       "<Figure size 432x288 with 1 Axes>"
      ]
     },
     "metadata": {
      "needs_background": "light"
     },
     "output_type": "display_data"
    }
   ],
   "source": [
    "#Now lets overlay these two EF\n",
    "plt.title(\"Efficient Frontier\") \n",
    "plt.xlabel(\"Variance\") \n",
    "plt.ylabel(\"Expected Return\")\n",
    "plt.plot(bootSig, mu, color = \"red\", marker = \"o\", markersize = 4, label = \"Bootstrap\")\n",
    "plt.plot(sig, mu, marker = \"o\", markersize = 4, label = \"Plug-in\")\n",
    "plt.legend()\n",
    "plt.show\n"
   ]
  },
  {
   "cell_type": "markdown",
   "id": "2c8b7c52",
   "metadata": {},
   "source": []
  }
 ],
 "metadata": {
  "kernelspec": {
   "display_name": "Python 3 (ipykernel)",
   "language": "python",
   "name": "python3"
  },
  "language_info": {
   "codemirror_mode": {
    "name": "ipython",
    "version": 3
   },
   "file_extension": ".py",
   "mimetype": "text/x-python",
   "name": "python",
   "nbconvert_exporter": "python",
   "pygments_lexer": "ipython3",
   "version": "3.8.11"
  }
 },
 "nbformat": 4,
 "nbformat_minor": 5
}
