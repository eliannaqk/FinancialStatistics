{
 "cells": [
  {
   "cell_type": "code",
   "execution_count": 29,
   "id": "dcd5b8dc",
   "metadata": {},
   "outputs": [],
   "source": [
    "import arch \n",
    "import math\n",
    "from matplotlib import pyplot as plt\n",
    "import numpy as np\n",
    "import pandas as pd\n",
    "import statsmodels.api as sm"
   ]
  },
  {
   "cell_type": "code",
   "execution_count": 30,
   "id": "26cc88af",
   "metadata": {},
   "outputs": [
    {
     "data": {
      "text/html": [
       "<div>\n",
       "<style scoped>\n",
       "    .dataframe tbody tr th:only-of-type {\n",
       "        vertical-align: middle;\n",
       "    }\n",
       "\n",
       "    .dataframe tbody tr th {\n",
       "        vertical-align: top;\n",
       "    }\n",
       "\n",
       "    .dataframe thead th {\n",
       "        text-align: right;\n",
       "    }\n",
       "</style>\n",
       "<table border=\"1\" class=\"dataframe\">\n",
       "  <thead>\n",
       "    <tr style=\"text-align: right;\">\n",
       "      <th></th>\n",
       "      <th>Date</th>\n",
       "      <th>logreturn</th>\n",
       "    </tr>\n",
       "  </thead>\n",
       "  <tbody>\n",
       "    <tr>\n",
       "      <th>0</th>\n",
       "      <td>19-Nov-84</td>\n",
       "      <td>0.0816</td>\n",
       "    </tr>\n",
       "    <tr>\n",
       "      <th>1</th>\n",
       "      <td>26-Nov-84</td>\n",
       "      <td>-1.1893</td>\n",
       "    </tr>\n",
       "    <tr>\n",
       "      <th>2</th>\n",
       "      <td>3-Dec-84</td>\n",
       "      <td>-1.2871</td>\n",
       "    </tr>\n",
       "    <tr>\n",
       "      <th>3</th>\n",
       "      <td>10-Dec-84</td>\n",
       "      <td>-0.1254</td>\n",
       "    </tr>\n",
       "    <tr>\n",
       "      <th>4</th>\n",
       "      <td>17-Dec-84</td>\n",
       "      <td>2.3978</td>\n",
       "    </tr>\n",
       "  </tbody>\n",
       "</table>\n",
       "</div>"
      ],
      "text/plain": [
       "        Date  logreturn\n",
       "0  19-Nov-84     0.0816\n",
       "1  26-Nov-84    -1.1893\n",
       "2   3-Dec-84    -1.2871\n",
       "3  10-Dec-84    -0.1254\n",
       "4  17-Dec-84     2.3978"
      ]
     },
     "execution_count": 30,
     "metadata": {},
     "output_type": "execute_result"
    }
   ],
   "source": [
    "logRet = pd.read_csv(\"nasdaq_w_logret.txt\", delim_whitespace = True)\n",
    "logRet.head()\n"
   ]
  },
  {
   "cell_type": "code",
   "execution_count": 31,
   "id": "fee051bd",
   "metadata": {},
   "outputs": [
    {
     "name": "stdout",
     "output_type": "stream",
     "text": [
      "Iteration:      1,   Func. Count:      5,   Neg. LLF: 5840.276335800089\n",
      "Iteration:      2,   Func. Count:     14,   Neg. LLF: 2626.920481088593\n",
      "Iteration:      3,   Func. Count:     20,   Neg. LLF: 2322.7989825904597\n",
      "Iteration:      4,   Func. Count:     25,   Neg. LLF: 2367.4394347999773\n",
      "Iteration:      5,   Func. Count:     31,   Neg. LLF: 2322.5887538555526\n",
      "Iteration:      6,   Func. Count:     35,   Neg. LLF: 2322.5885987044226\n",
      "Iteration:      7,   Func. Count:     39,   Neg. LLF: 2322.588539272379\n",
      "Iteration:      8,   Func. Count:     42,   Neg. LLF: 2322.5885392724576\n",
      "Optimization terminated successfully    (Exit mode 0)\n",
      "            Current function value: 2322.588539272379\n",
      "            Iterations: 8\n",
      "            Function evaluations: 42\n",
      "            Gradient evaluations: 8\n"
     ]
    }
   ],
   "source": [
    "volModel = arch.arch_model(logRet[[\"logreturn\"]], mean = 'Zero')\n",
    "#set mu to zero\n",
    "volModel = volModel.fit()"
   ]
  },
  {
   "cell_type": "code",
   "execution_count": 32,
   "id": "39b263aa",
   "metadata": {},
   "outputs": [
    {
     "data": {
      "text/plain": [
       "omega       0.265938\n",
       "alpha[1]    0.210302\n",
       "beta[1]     0.779292\n",
       "Name: params, dtype: float64"
      ]
     },
     "execution_count": 32,
     "metadata": {},
     "output_type": "execute_result"
    }
   ],
   "source": [
    "volModel.params"
   ]
  },
  {
   "cell_type": "markdown",
   "id": "e408063a",
   "metadata": {},
   "source": [
    "Now I need to fit the same model, but over four time periods\n",
    "(Nov 19, 1984: June 16, 1987)\n",
    "(June 9, 1987: Aug 15, 1990)\n",
    "(Aug 8, 1990: Mar 13, 1998)\n",
    "(Mar 6, 1998: Sep 15, 2003)"
   ]
  },
  {
   "cell_type": "code",
   "execution_count": 38,
   "id": "9edb90e8",
   "metadata": {},
   "outputs": [],
   "source": [
    "#Find the indices that correspond to those dates:\n",
    "dates = [\"19-Nov-84\", \"15-Jun-87\", \"8-Jun-87\", \"13-Aug-90\", \n",
    "        \"6-Aug-90\", \"9-Mar-98\", \"2-Mar-98\", \"15-Sep-03\"]\n",
    "\n",
    "idx = list()\n",
    "for i in dates:\n",
    "    idx.append(logRet[logRet['Date']==i].index.values[0])\n",
    "    \n",
    "timeperiods = 4"
   ]
  },
  {
   "cell_type": "markdown",
   "id": "d81f950f",
   "metadata": {},
   "source": []
  },
  {
   "cell_type": "code",
   "execution_count": 39,
   "id": "2d3b6a39",
   "metadata": {},
   "outputs": [
    {
     "name": "stdout",
     "output_type": "stream",
     "text": [
      "Iteration:      1,   Func. Count:      5,   Neg. LLF: 442.4858754974817\n",
      "Iteration:      2,   Func. Count:     11,   Neg. LLF: 274.24238534761406\n",
      "Iteration:      3,   Func. Count:     15,   Neg. LLF: 274.23990964036363\n",
      "Iteration:      4,   Func. Count:     19,   Neg. LLF: 274.2326066493505\n",
      "Iteration:      5,   Func. Count:     23,   Neg. LLF: 274.2122967072929\n",
      "Iteration:      6,   Func. Count:     27,   Neg. LLF: 274.2149576767904\n",
      "Iteration:      7,   Func. Count:     32,   Neg. LLF: 274.21006181646453\n",
      "Iteration:      8,   Func. Count:     37,   Neg. LLF: 274.20740019046775\n",
      "Iteration:      9,   Func. Count:     41,   Neg. LLF: 274.2073949379761\n",
      "Iteration:     10,   Func. Count:     44,   Neg. LLF: 274.2073949379916\n",
      "Optimization terminated successfully    (Exit mode 0)\n",
      "            Current function value: 274.2073949379761\n",
      "            Iterations: 10\n",
      "            Function evaluations: 44\n",
      "            Gradient evaluations: 10\n",
      "Iteration:      1,   Func. Count:      5,   Neg. LLF: 219328.91655754152\n",
      "Iteration:      2,   Func. Count:     10,   Neg. LLF: 70159138.50629371\n",
      "Iteration:      3,   Func. Count:     15,   Neg. LLF: 443.5053501693048\n",
      "Iteration:      4,   Func. Count:     20,   Neg. LLF: 347.0397255691666\n",
      "Iteration:      5,   Func. Count:     26,   Neg. LLF: 337.87401434005653\n",
      "Iteration:      6,   Func. Count:     30,   Neg. LLF: 337.7837254854184\n",
      "Iteration:      7,   Func. Count:     34,   Neg. LLF: 337.76203504022965\n",
      "Iteration:      8,   Func. Count:     38,   Neg. LLF: 337.7609101491796\n",
      "Iteration:      9,   Func. Count:     42,   Neg. LLF: 337.76088678815125\n",
      "Iteration:     10,   Func. Count:     45,   Neg. LLF: 337.7608867879803\n",
      "Optimization terminated successfully    (Exit mode 0)\n",
      "            Current function value: 337.76088678815125\n",
      "            Iterations: 10\n",
      "            Function evaluations: 45\n",
      "            Gradient evaluations: 10\n",
      "Iteration:      1,   Func. Count:      5,   Neg. LLF: 209385961.31480917\n",
      "Iteration:      2,   Func. Count:     11,   Neg. LLF: 1177.5836809881225\n",
      "Iteration:      3,   Func. Count:     17,   Neg. LLF: 854.3401760010106\n",
      "Iteration:      4,   Func. Count:     22,   Neg. LLF: 854.9486926065028\n",
      "Iteration:      5,   Func. Count:     27,   Neg. LLF: 854.7459758777098\n",
      "Iteration:      6,   Func. Count:     32,   Neg. LLF: 859.2431629055986\n",
      "Iteration:      7,   Func. Count:     37,   Neg. LLF: 860.7935868296065\n",
      "Iteration:      8,   Func. Count:     42,   Neg. LLF: 864.9492452995262\n",
      "Iteration:      9,   Func. Count:     47,   Neg. LLF: 863.7454707306451\n",
      "Iteration:     10,   Func. Count:     52,   Neg. LLF: 845.6387441838895\n",
      "Iteration:     11,   Func. Count:     57,   Neg. LLF: 845.2315778468994\n",
      "Iteration:     12,   Func. Count:     62,   Neg. LLF: 845.0370050299523\n",
      "Iteration:     13,   Func. Count:     67,   Neg. LLF: 844.9896668419974\n",
      "Iteration:     14,   Func. Count:     71,   Neg. LLF: 844.9891561871541\n",
      "Iteration:     15,   Func. Count:     75,   Neg. LLF: 844.9891552631324\n",
      "Iteration:     16,   Func. Count:     80,   Neg. LLF: 844.9891391980254\n",
      "Iteration:     17,   Func. Count:     83,   Neg. LLF: 844.9891391975241\n",
      "Optimization terminated successfully    (Exit mode 0)\n",
      "            Current function value: 844.9891391980254\n",
      "            Iterations: 17\n",
      "            Function evaluations: 83\n",
      "            Gradient evaluations: 17\n",
      "Iteration:      1,   Func. Count:      5,   Neg. LLF: 910.6832562700016\n",
      "Iteration:      2,   Func. Count:     11,   Neg. LLF: 1017.5301144052826\n",
      "Iteration:      3,   Func. Count:     17,   Neg. LLF: 843.3673192339439\n",
      "Iteration:      4,   Func. Count:     21,   Neg. LLF: 843.3195740092212\n",
      "Iteration:      5,   Func. Count:     25,   Neg. LLF: 1018.669250303727\n",
      "Iteration:      6,   Func. Count:     31,   Neg. LLF: 843.3110081214536\n",
      "Iteration:      7,   Func. Count:     35,   Neg. LLF: 843.310895101479\n",
      "Iteration:      8,   Func. Count:     39,   Neg. LLF: 843.3108945091135\n",
      "Optimization terminated successfully    (Exit mode 0)\n",
      "            Current function value: 843.3108945091135\n",
      "            Iterations: 8\n",
      "            Function evaluations: 39\n",
      "            Gradient evaluations: 8\n"
     ]
    }
   ],
   "source": [
    "#Now lets fit each of these timeperiods\n",
    "subVolModel = list()\n",
    "for i in range(0, timeperiods):\n",
    "    startIdx = idx[2*i]\n",
    "    endIdx = idx[2*i + 1]\n",
    "    #Last date needs to include the end date\n",
    "    if i == timeperiods-1:\n",
    "        subVolModel.append(arch.arch_model(logRet.iloc[startIdx:,1], mean = 'Zero'))\n",
    "        subVolModel[i] = subVolModel[i].fit()\n",
    "    else:\n",
    "        #These should not include the end-date\n",
    "        subVolModel.append(arch.arch_model(logRet.iloc[startIdx:endIdx, 1], mean = 'Zero'))\n",
    "        subVolModel[i] = subVolModel[i].fit()"
   ]
  },
  {
   "cell_type": "code",
   "execution_count": 40,
   "id": "5925c12b",
   "metadata": {},
   "outputs": [
    {
     "data": {
      "text/html": [
       "<div>\n",
       "<style scoped>\n",
       "    .dataframe tbody tr th:only-of-type {\n",
       "        vertical-align: middle;\n",
       "    }\n",
       "\n",
       "    .dataframe tbody tr th {\n",
       "        vertical-align: top;\n",
       "    }\n",
       "\n",
       "    .dataframe thead th {\n",
       "        text-align: right;\n",
       "    }\n",
       "</style>\n",
       "<table border=\"1\" class=\"dataframe\">\n",
       "  <thead>\n",
       "    <tr style=\"text-align: right;\">\n",
       "      <th></th>\n",
       "      <th>omega</th>\n",
       "      <th>alpha</th>\n",
       "      <th>beta</th>\n",
       "      <th>beta+alpha</th>\n",
       "      <th>half-life</th>\n",
       "    </tr>\n",
       "  </thead>\n",
       "  <tbody>\n",
       "    <tr>\n",
       "      <th>Period1</th>\n",
       "      <td>0.939574</td>\n",
       "      <td>4.673352e-16</td>\n",
       "      <td>0.735141</td>\n",
       "      <td>0.735141</td>\n",
       "      <td>2.252722</td>\n",
       "    </tr>\n",
       "    <tr>\n",
       "      <th>Period2</th>\n",
       "      <td>0.639760</td>\n",
       "      <td>5.405512e-01</td>\n",
       "      <td>0.415746</td>\n",
       "      <td>0.956297</td>\n",
       "      <td>15.511251</td>\n",
       "    </tr>\n",
       "    <tr>\n",
       "      <th>Period3</th>\n",
       "      <td>0.160630</td>\n",
       "      <td>2.589907e-02</td>\n",
       "      <td>0.933133</td>\n",
       "      <td>0.959032</td>\n",
       "      <td>16.570401</td>\n",
       "    </tr>\n",
       "    <tr>\n",
       "      <th>Period4</th>\n",
       "      <td>0.531863</td>\n",
       "      <td>1.472041e-01</td>\n",
       "      <td>0.845084</td>\n",
       "      <td>0.992288</td>\n",
       "      <td>89.530398</td>\n",
       "    </tr>\n",
       "    <tr>\n",
       "      <th>Full-Period</th>\n",
       "      <td>0.265938</td>\n",
       "      <td>2.103023e-01</td>\n",
       "      <td>0.779292</td>\n",
       "      <td>0.989594</td>\n",
       "      <td>66.264167</td>\n",
       "    </tr>\n",
       "  </tbody>\n",
       "</table>\n",
       "</div>"
      ],
      "text/plain": [
       "                omega         alpha      beta  beta+alpha  half-life\n",
       "Period1      0.939574  4.673352e-16  0.735141    0.735141   2.252722\n",
       "Period2      0.639760  5.405512e-01  0.415746    0.956297  15.511251\n",
       "Period3      0.160630  2.589907e-02  0.933133    0.959032  16.570401\n",
       "Period4      0.531863  1.472041e-01  0.845084    0.992288  89.530398\n",
       "Full-Period  0.265938  2.103023e-01  0.779292    0.989594  66.264167"
      ]
     },
     "execution_count": 40,
     "metadata": {},
     "output_type": "execute_result"
    }
   ],
   "source": [
    "data = pd.DataFrame(columns = ('omega', 'alpha', 'beta', 'beta+alpha', 'half-life'))\n",
    "for iterator, i in enumerate(subVolModel):\n",
    "    omega = i.params[0]\n",
    "    alpha = i.params[1]\n",
    "    beta = i.params[2]\n",
    "    AB = alpha + beta\n",
    "    halfLife = -1*math.log(2)/math.log(AB)\n",
    "    data.loc[iterator] = [omega, alpha, beta, AB, halfLife]\n",
    "    \n",
    "data.loc[len(subVolModel)] = [volModel.params[0], volModel.params[1], volModel.params[2],\n",
    "                              volModel.params[1]+volModel.params[2],\n",
    "                              -1*math.log(2)/(math.log(volModel.params[1]+volModel.params[2]))]\n",
    "data = data.set_axis(['Period1','Period2','Period3','Period4','Full-Period'], axis = 'index')\n",
    "data"
   ]
  },
  {
   "cell_type": "markdown",
   "id": "1be4ff17",
   "metadata": {},
   "source": [
    "The parameters appear to be dynamic, i.e. they are not constant over time, and there seems to be very different volatility persistence estimates as it seems to change as new \"volatility regimes\" take over the market and displace old ones. For example, during period 1, both estimates of volatility persistence--$\\beta + \\alpha$ and half-life--were relatively low aat 0.735 and 2.25 respectively. But, in period 4, which includes the dot-com bust, these estimates spiked to 0.992228 and 89.53. Note that when $\\beta + \\alpha = 1$, our time series becomes non-stationary and the unconditional variance becomes infinite. \n",
    "The last thing to note is that when fitting the GARCH(1,1) model in the full period, the parameters seem to be far more heavily weighted to the period 4 weights than the period1 weights, even when taking into account the time-scale differences, suggesting these estimatares are impacted heavily by outliers. "
   ]
  },
  {
   "cell_type": "markdown",
   "id": "aaa889cd",
   "metadata": {},
   "source": []
  }
 ],
 "metadata": {
  "kernelspec": {
   "display_name": "Python 3",
   "language": "python",
   "name": "python3"
  },
  "language_info": {
   "codemirror_mode": {
    "name": "ipython",
    "version": 3
   },
   "file_extension": ".py",
   "mimetype": "text/x-python",
   "name": "python",
   "nbconvert_exporter": "python",
   "pygments_lexer": "ipython3",
   "version": "3.8.8"
  }
 },
 "nbformat": 4,
 "nbformat_minor": 5
}
