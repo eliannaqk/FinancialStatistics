{
 "cells": [
  {
   "cell_type": "code",
   "execution_count": 1,
   "id": "442e5560",
   "metadata": {},
   "outputs": [],
   "source": [
    "import numpy as np\n",
    "import pandas as pd\n",
    "from matplotlib import pyplot as plt\n",
    "from scipy.stats.distributions import chi2\n",
    "import statsmodels.api as sm"
   ]
  },
  {
   "cell_type": "code",
   "execution_count": 2,
   "id": "2f72a231",
   "metadata": {},
   "outputs": [
    {
     "data": {
      "text/html": [
       "<div>\n",
       "<style scoped>\n",
       "    .dataframe tbody tr th:only-of-type {\n",
       "        vertical-align: middle;\n",
       "    }\n",
       "\n",
       "    .dataframe tbody tr th {\n",
       "        vertical-align: top;\n",
       "    }\n",
       "\n",
       "    .dataframe thead th {\n",
       "        text-align: right;\n",
       "    }\n",
       "</style>\n",
       "<table border=\"1\" class=\"dataframe\">\n",
       "  <thead>\n",
       "    <tr style=\"text-align: right;\">\n",
       "      <th></th>\n",
       "      <th>Date</th>\n",
       "      <th>Citi</th>\n",
       "      <th>PFE</th>\n",
       "      <th>GM</th>\n",
       "    </tr>\n",
       "  </thead>\n",
       "  <tbody>\n",
       "    <tr>\n",
       "      <th>0</th>\n",
       "      <td>1/4/1982</td>\n",
       "      <td>-0.010995</td>\n",
       "      <td>-0.014977</td>\n",
       "      <td>-0.007019</td>\n",
       "    </tr>\n",
       "    <tr>\n",
       "      <th>1</th>\n",
       "      <td>1/11/1982</td>\n",
       "      <td>0.010995</td>\n",
       "      <td>0.014977</td>\n",
       "      <td>-0.020836</td>\n",
       "    </tr>\n",
       "    <tr>\n",
       "      <th>2</th>\n",
       "      <td>1/18/1982</td>\n",
       "      <td>-0.005463</td>\n",
       "      <td>0.021540</td>\n",
       "      <td>0.003696</td>\n",
       "    </tr>\n",
       "    <tr>\n",
       "      <th>3</th>\n",
       "      <td>1/25/1982</td>\n",
       "      <td>-0.022566</td>\n",
       "      <td>0.006949</td>\n",
       "      <td>0.000000</td>\n",
       "    </tr>\n",
       "    <tr>\n",
       "      <th>4</th>\n",
       "      <td>2/1/1982</td>\n",
       "      <td>-0.017729</td>\n",
       "      <td>-0.006949</td>\n",
       "      <td>-0.015931</td>\n",
       "    </tr>\n",
       "  </tbody>\n",
       "</table>\n",
       "</div>"
      ],
      "text/plain": [
       "        Date      Citi       PFE        GM\n",
       "0   1/4/1982 -0.010995 -0.014977 -0.007019\n",
       "1  1/11/1982  0.010995  0.014977 -0.020836\n",
       "2  1/18/1982 -0.005463  0.021540  0.003696\n",
       "3  1/25/1982 -0.022566  0.006949  0.000000\n",
       "4   2/1/1982 -0.017729 -0.006949 -0.015931"
      ]
     },
     "execution_count": 2,
     "metadata": {},
     "output_type": "execute_result"
    }
   ],
   "source": [
    "logRet = pd.read_csv(\"w_logret_3stocks.txt\", delim_whitespace = True)\n",
    "logRet.head()"
   ]
  },
  {
   "cell_type": "code",
   "execution_count": 3,
   "id": "7fd3d191",
   "metadata": {},
   "outputs": [
    {
     "name": "stdout",
     "output_type": "stream",
     "text": [
      "Citi    0.001381\n",
      "PFE     0.001258\n",
      "GM      0.000594\n",
      "dtype: float64\n",
      "Citi    0.000372\n",
      "PFE     0.000277\n",
      "GM      0.000328\n",
      "dtype: float64\n"
     ]
    }
   ],
   "source": [
    "#Calculate sample means and variances\n",
    "\n",
    "stocks = [\"Citi\", \"PFE\", \"GM\"]\n",
    "sampleMeans = logRet[stocks].mean()\n",
    "sampleVars = logRet[stocks].var()\n",
    "print(sampleMeans)\n",
    "print(sampleVars)"
   ]
  },
  {
   "cell_type": "code",
   "execution_count": 4,
   "id": "5b3c18ab",
   "metadata": {},
   "outputs": [],
   "source": [
    "#Now lets compute some higher order central moments\n",
    "\n",
    "sampleSkew = dict()\n",
    "sampleEKur = dict()\n",
    "\n",
    "for idx, i in enumerate(stocks):\n",
    "    sampleSkew[i] = sum([(x-sampleMeans[idx])**3 for x in logRet[i]])/ (sampleVars[idx]**(3/2))\n",
    "    sampleSkew[i] /= (logRet.shape[0] - 1) \n",
    "    sampleEKur[i] = sum([(x-sampleMeans[idx])**4 for x in logRet[i]]) / (sampleVars[idx]**2)\n",
    "    sampleEKur[i] /= (logRet.shape[0] - 1) \n",
    "    sampleEKur[i] -= 3"
   ]
  },
  {
   "cell_type": "code",
   "execution_count": 5,
   "id": "2e8da4fc",
   "metadata": {},
   "outputs": [
    {
     "name": "stdout",
     "output_type": "stream",
     "text": [
      "{'Citi': -0.36734244033981067, 'PFE': -0.2610496458746839, 'GM': -0.15083531639246003}\n",
      "{'Citi': 5.5836460539170325, 'PFE': 1.5358690386030016, 'GM': 2.321076189212662}\n"
     ]
    }
   ],
   "source": [
    "print(sampleSkew)\n",
    "print(sampleEKur)"
   ]
  },
  {
   "cell_type": "code",
   "execution_count": 6,
   "id": "795ee715",
   "metadata": {},
   "outputs": [
    {
     "name": "stdout",
     "output_type": "stream",
     "text": [
      "{'Citi': array([ 1.        , -0.07591355,  0.05936656,  0.00810313, -0.02075942,\n",
      "        0.00678208,  0.02745723, -0.05270375, -0.02974185,  0.02863888,\n",
      "        0.01634006]), 'PFE': array([ 1.        , -0.07299837,  0.00155972, -0.03544816,  0.00226688,\n",
      "       -0.03112893,  0.01457448,  0.00482686,  0.05422517, -0.0187314 ,\n",
      "       -0.00445221]), 'GM': array([ 1.        , -0.03069951,  0.03345319,  0.0226269 , -0.02344817,\n",
      "       -0.00494686,  0.06277479, -0.01817246, -0.04554548, -0.02014421,\n",
      "       -0.0099729 ])}\n"
     ]
    },
    {
     "name": "stderr",
     "output_type": "stream",
     "text": [
      "/Users/quinnhollister/opt/anaconda3/lib/python3.8/site-packages/statsmodels/tsa/stattools.py:667: FutureWarning: fft=True will become the default after the release of the 0.12 release of statsmodels. To suppress this warning, explicitly set fft=False.\n",
      "  warnings.warn(\n"
     ]
    }
   ],
   "source": [
    "#Now lets compute the Ljung Box Statistic up to lag 10\n",
    "#Critical value = chi2(df = 10, alpha = 0.05)\n",
    "\n",
    "ACF = dict()\n",
    "nlags = 10\n",
    "nObs = logRet.shape[0]\n",
    "#First need to compute the estimated auto-correlations for each time series\n",
    "for i in stocks:\n",
    "    ACF[i] = sm.tsa.acf(logRet[i], nlags = nlags)\n",
    "    \n",
    "print(ACF)\n"
   ]
  },
  {
   "cell_type": "code",
   "execution_count": 7,
   "id": "e7874801",
   "metadata": {},
   "outputs": [
    {
     "name": "stdout",
     "output_type": "stream",
     "text": [
      "{'Citi': [7.647336699831373, 12.327746317018672, 12.415010160544805, 12.988185986551377, 13.049408613653709, 14.053629832057137, 17.756417605486536, 18.9364981593627, 20.031507395221556], 'PFE': [7.071278409163529, 7.074509090359755, 8.744507194032792, 8.751341803130295, 10.041120284778412, 10.324065368798925, 10.35512347195819, 14.27775431194332, 14.746185998180906], 'GM': [1.2506460735088814, 2.7368383785276404, 3.4172609091948134, 4.148527186404371, 4.181099366745918, 9.43022021606673, 9.870443537312305, 12.637806929932744, 13.179565988757405]}\n"
     ]
    }
   ],
   "source": [
    "#Now compute the LB statistics:\n",
    "LB = dict()\n",
    "for i in stocks:\n",
    "    LB[i] = list()\n",
    "    for lag in range(1, nlags):\n",
    "        stat = 0\n",
    "        stat = sum([(x**2)/(nObs - ind) for ind, x in enumerate(ACF[i]) if 1 <= ind <= lag])\n",
    "        stat = nObs*(nObs+2)*(stat)\n",
    "        LB[i].append(stat)\n",
    "print(LB)"
   ]
  },
  {
   "cell_type": "markdown",
   "id": "cd5614c7",
   "metadata": {},
   "source": [
    "\n"
   ]
  },
  {
   "cell_type": "code",
   "execution_count": 8,
   "id": "7656658b",
   "metadata": {},
   "outputs": [
    {
     "data": {
      "image/png": "[encoded data removed]",
      "text/plain": [
       "<Figure size 1080x1080 with 6 Axes>"
      ]
     },
     "metadata": {
      "needs_background": "light"
     },
     "output_type": "display_data"
    }
   ],
   "source": [
    "#Plot histograms of returns and squared returns\n",
    "num_bins = 20\n",
    "colors = ['c','b','r']\n",
    "\n",
    "fig, axs = plt.subplots(2, len(stocks), figsize = (15,15))\n",
    "\n",
    "for idx, i in enumerate(stocks):\n",
    "    axs[0][idx].hist(logRet[i], num_bins, alpha = 0.5, color = colors[idx])\n",
    "    axs[0][idx].set_title(i)\n",
    "    \n",
    "for idx, i in enumerate(stocks):\n",
    "    axs[1][idx].hist(logRet[i]**2, num_bins, alpha = 0.5, color = colors[idx])\n",
    "    axs[1][idx].set_title(i)\n",
    "    \n",
    "plt.show()"
   ]
  },
  {
   "cell_type": "markdown",
   "id": "2899b108",
   "metadata": {},
   "source": [
    "As we can see, the squared returns are mostly very close to zero, but there are some severe outliers that kind of \"messes\" up the histogram plotting. Most of the values are in the (0,1e-2) or even tighter, but a tiny few outliers keep the range of the plot much wider. I.e., returns are heavy-tailed. This confirms our excess kurtosis estimates. "
   ]
  },
  {
   "cell_type": "code",
   "execution_count": 33,
   "id": "894d3f4e",
   "metadata": {},
   "outputs": [
    {
     "name": "stdout",
     "output_type": "stream",
     "text": [
      "{'Citi': 1749.7137263009568, 'PFE': 145.17005580917822, 'GM': 302.2250582159513}\n",
      "{'Citi': False, 'PFE': False, 'GM': False}\n"
     ]
    }
   ],
   "source": [
    "#Let's compute the JB statistic, and then run hypothesis tests for normality on each\n",
    "\n",
    "JBStat = dict()\n",
    "\n",
    "for i in stocks:\n",
    "    JBStat[i] = (logRet.shape[0]/6)*(sampleSkew[i]**2 + 0.25*(sampleEKur[i]**2))\n",
    "\n",
    "#Calculate the critical value for this test given n, our number of observations\n",
    "alpha = 0.05 #i.e. a 95 confidence interval\n",
    "cValue = chi2.ppf(1 - alpha, df=2)\n",
    "\n",
    "#conduct the hypothesis test\n",
    "Normality = {key: (True if val <= cValue else False) for (key, val) in JBStat.items()}\n",
    "  \n",
    "print(JBStat)\n",
    "print(Normality)"
   ]
  },
  {
   "cell_type": "code",
   "execution_count": 57,
   "id": "9bad0cdb",
   "metadata": {},
   "outputs": [
    {
     "data": {
      "image/png": "[encoded data removed]",
      "text/plain": [
       "<Figure size 1080x1080 with 6 Axes>"
      ]
     },
     "metadata": {
      "needs_background": "light"
     },
     "output_type": "display_data"
    }
   ],
   "source": [
    "#Plot ACF's of returns and squared returns\n",
    "colors = ['c','b','r']\n",
    "\n",
    "fig, axs = plt.subplots(2, len(stocks), figsize = (15,15))\n",
    "\n",
    "for idx, i in enumerate(stocks):\n",
    "    sm.graphics.tsa.plot_acf(logRet[i], lags=20, ax = axs[0][idx])\n",
    "    axs[0][idx].set_title(i + \" returns\")\n",
    "    \n",
    "for idx, i in enumerate(stocks):\n",
    "    sm.graphics.tsa.plot_acf(logRet[i]**2, lags=20, ax = axs[1][idx])\n",
    "    axs[1][idx].set_title(i + \" squared returns\")\n",
    "    \n",
    "plt.show()"
   ]
  },
  {
   "cell_type": "markdown",
   "id": "f4815194",
   "metadata": {},
   "source": [
    "As we can see, the squared returns have clear significant lags as we would expect from volatility clustering. For the returns themselves, some series have 1 significant lag, but at the 95% critical value we would expect that 1 in 20 would be significant just by probability, thus its pretty hard to say that returns themselves have autocorrelation, except maybe Citi's case."
   ]
  }
 ],
 "metadata": {
  "kernelspec": {
   "display_name": "Python 3",
   "language": "python",
   "name": "python3"
  },
  "language_info": {
   "codemirror_mode": {
    "name": "ipython",
    "version": 3
   },
   "file_extension": ".py",
   "mimetype": "text/x-python",
   "name": "python",
   "nbconvert_exporter": "python",
   "pygments_lexer": "ipython3",
   "version": "3.8.8"
  }
 },
 "nbformat": 4,
 "nbformat_minor": 5
}
