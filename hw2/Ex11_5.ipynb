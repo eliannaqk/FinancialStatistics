{
 "cells": [
  {
   "cell_type": "code",
   "execution_count": 140,
   "id": "50fa51e4",
   "metadata": {},
   "outputs": [],
   "source": [
    "import pandas as pd\n",
    "import matplotlib.pyplot as plt\n",
    "import numpy as np\n",
    "from datetime import datetime\n",
    "import statsmodels.api as sm"
   ]
  },
  {
   "cell_type": "code",
   "execution_count": 52,
   "id": "eb16cec2",
   "metadata": {},
   "outputs": [],
   "source": [
    "OFFSET = 570 #corresponds to minutes in day up to 9:30 am\n",
    "custom_date_parser = lambda x: datetime.strptime(x, \"%Y%m%d\")\n",
    "\n",
    "df = pd.read_csv(\"/Users/quinnhollister/Downloads/ibm_intraday_200306.txt\", \n",
    "                 parse_dates=[\"DATE\"], \n",
    "                 date_parser = custom_date_parser, delim_whitespace = True)\n",
    "\n",
    "df[\"minsSinceOpen\"] = (df[\"TIME\"].str.split(':')).apply(lambda x: (int(x[0])*60 + int(x[1]) + int(x[2])*(1/60) - OFFSET))"
   ]
  },
  {
   "cell_type": "code",
   "execution_count": 53,
   "id": "8d7e463a",
   "metadata": {},
   "outputs": [
    {
     "data": {
      "text/html": [
       "<div>\n",
       "<style scoped>\n",
       "    .dataframe tbody tr th:only-of-type {\n",
       "        vertical-align: middle;\n",
       "    }\n",
       "\n",
       "    .dataframe tbody tr th {\n",
       "        vertical-align: top;\n",
       "    }\n",
       "\n",
       "    .dataframe thead th {\n",
       "        text-align: right;\n",
       "    }\n",
       "</style>\n",
       "<table border=\"1\" class=\"dataframe\">\n",
       "  <thead>\n",
       "    <tr style=\"text-align: right;\">\n",
       "      <th></th>\n",
       "      <th>DATE</th>\n",
       "      <th>TIME</th>\n",
       "      <th>PRICE</th>\n",
       "      <th>SIZE</th>\n",
       "      <th>minsSinceOpen</th>\n",
       "    </tr>\n",
       "  </thead>\n",
       "  <tbody>\n",
       "    <tr>\n",
       "      <th>0</th>\n",
       "      <td>2003-06-02</td>\n",
       "      <td>9:30:08</td>\n",
       "      <td>89.0</td>\n",
       "      <td>89800</td>\n",
       "      <td>0.133333</td>\n",
       "    </tr>\n",
       "    <tr>\n",
       "      <th>1</th>\n",
       "      <td>2003-06-02</td>\n",
       "      <td>9:30:09</td>\n",
       "      <td>89.0</td>\n",
       "      <td>200</td>\n",
       "      <td>0.150000</td>\n",
       "    </tr>\n",
       "    <tr>\n",
       "      <th>2</th>\n",
       "      <td>2003-06-02</td>\n",
       "      <td>9:30:09</td>\n",
       "      <td>89.0</td>\n",
       "      <td>100</td>\n",
       "      <td>0.150000</td>\n",
       "    </tr>\n",
       "    <tr>\n",
       "      <th>3</th>\n",
       "      <td>2003-06-02</td>\n",
       "      <td>9:30:09</td>\n",
       "      <td>89.0</td>\n",
       "      <td>300</td>\n",
       "      <td>0.150000</td>\n",
       "    </tr>\n",
       "    <tr>\n",
       "      <th>4</th>\n",
       "      <td>2003-06-02</td>\n",
       "      <td>9:30:09</td>\n",
       "      <td>89.0</td>\n",
       "      <td>200</td>\n",
       "      <td>0.150000</td>\n",
       "    </tr>\n",
       "  </tbody>\n",
       "</table>\n",
       "</div>"
      ],
      "text/plain": [
       "        DATE     TIME  PRICE   SIZE  minsSinceOpen\n",
       "0 2003-06-02  9:30:08   89.0  89800       0.133333\n",
       "1 2003-06-02  9:30:09   89.0    200       0.150000\n",
       "2 2003-06-02  9:30:09   89.0    100       0.150000\n",
       "3 2003-06-02  9:30:09   89.0    300       0.150000\n",
       "4 2003-06-02  9:30:09   89.0    200       0.150000"
      ]
     },
     "execution_count": 53,
     "metadata": {},
     "output_type": "execute_result"
    }
   ],
   "source": [
    "df.head()\n",
    "\n",
    "\n",
    "#Now, I want to create 5-minute intervals throughout the trading day so i can run my\n",
    "#analysis on trends. I'll copy this dataframe so that I don't lose any information, then\n",
    "#I will group_by "
   ]
  },
  {
   "cell_type": "code",
   "execution_count": 69,
   "id": "189acf6d",
   "metadata": {},
   "outputs": [
    {
     "data": {
      "text/html": [
       "<div>\n",
       "<style scoped>\n",
       "    .dataframe tbody tr th:only-of-type {\n",
       "        vertical-align: middle;\n",
       "    }\n",
       "\n",
       "    .dataframe tbody tr th {\n",
       "        vertical-align: top;\n",
       "    }\n",
       "\n",
       "    .dataframe thead th {\n",
       "        text-align: right;\n",
       "    }\n",
       "</style>\n",
       "<table border=\"1\" class=\"dataframe\">\n",
       "  <thead>\n",
       "    <tr style=\"text-align: right;\">\n",
       "      <th></th>\n",
       "      <th>DATE</th>\n",
       "      <th>TIME</th>\n",
       "      <th>PRICE</th>\n",
       "      <th>SIZE</th>\n",
       "      <th>minsSinceOpen</th>\n",
       "      <th>5minInt</th>\n",
       "      <th>DAY</th>\n",
       "    </tr>\n",
       "  </thead>\n",
       "  <tbody>\n",
       "    <tr>\n",
       "      <th>163806</th>\n",
       "      <td>2003-06-30</td>\n",
       "      <td>15:59:48</td>\n",
       "      <td>82.56</td>\n",
       "      <td>200</td>\n",
       "      <td>389.800000</td>\n",
       "      <td>77</td>\n",
       "      <td>30</td>\n",
       "    </tr>\n",
       "    <tr>\n",
       "      <th>163807</th>\n",
       "      <td>2003-06-30</td>\n",
       "      <td>15:59:59</td>\n",
       "      <td>82.60</td>\n",
       "      <td>100</td>\n",
       "      <td>389.983333</td>\n",
       "      <td>77</td>\n",
       "      <td>30</td>\n",
       "    </tr>\n",
       "    <tr>\n",
       "      <th>163808</th>\n",
       "      <td>2003-06-30</td>\n",
       "      <td>15:59:59</td>\n",
       "      <td>82.60</td>\n",
       "      <td>100</td>\n",
       "      <td>389.983333</td>\n",
       "      <td>77</td>\n",
       "      <td>30</td>\n",
       "    </tr>\n",
       "    <tr>\n",
       "      <th>163809</th>\n",
       "      <td>2003-06-30</td>\n",
       "      <td>16:00:00</td>\n",
       "      <td>82.58</td>\n",
       "      <td>32500</td>\n",
       "      <td>390.000000</td>\n",
       "      <td>77</td>\n",
       "      <td>30</td>\n",
       "    </tr>\n",
       "    <tr>\n",
       "      <th>163810</th>\n",
       "      <td>2003-06-30</td>\n",
       "      <td>16:00:00</td>\n",
       "      <td>82.58</td>\n",
       "      <td>500</td>\n",
       "      <td>390.000000</td>\n",
       "      <td>77</td>\n",
       "      <td>30</td>\n",
       "    </tr>\n",
       "  </tbody>\n",
       "</table>\n",
       "</div>"
      ],
      "text/plain": [
       "             DATE      TIME  PRICE   SIZE  minsSinceOpen  5minInt  DAY\n",
       "163806 2003-06-30  15:59:48  82.56    200     389.800000       77   30\n",
       "163807 2003-06-30  15:59:59  82.60    100     389.983333       77   30\n",
       "163808 2003-06-30  15:59:59  82.60    100     389.983333       77   30\n",
       "163809 2003-06-30  16:00:00  82.58  32500     390.000000       77   30\n",
       "163810 2003-06-30  16:00:00  82.58    500     390.000000       77   30"
      ]
     },
     "execution_count": 69,
     "metadata": {},
     "output_type": "execute_result"
    }
   ],
   "source": [
    "df[\"5minInt\"] = pd.cut(df[\"minsSinceOpen\"], np.arange(0, 395, 5), include_lowest=True, labels=False)\n",
    "df[\"DAY\"] = df[\"DATE\"].dt.day\n",
    "df.tail()"
   ]
  },
  {
   "cell_type": "code",
   "execution_count": 91,
   "id": "89784d2d",
   "metadata": {},
   "outputs": [],
   "source": [
    "#Now that we have these 5 minute ticks associated with each observation, we'll need to group_by the 5minInt\n",
    "#and the date, and each new grouped observations needs to sum over the transaction volume, and the last\n",
    "#stock price in that interval\n",
    "\n",
    "def intervalVals(group):\n",
    "    SIZE = np.sum(group[\"SIZE\"])\n",
    "    idx = group[\"minsSinceOpen\"].idxmax()\n",
    "    PRICE = group.loc[idx, [\"PRICE\"]].item()\n",
    "    return [SIZE,PRICE]"
   ]
  },
  {
   "cell_type": "code",
   "execution_count": 93,
   "id": "6501e987",
   "metadata": {},
   "outputs": [
    {
     "data": {
      "text/plain": [
       "pandas.core.series.Series"
      ]
     },
     "execution_count": 93,
     "metadata": {},
     "output_type": "execute_result"
    }
   ],
   "source": [
    "processed_df = df.groupby([\"DAY\", \"5minInt\"]).apply(intervalVals)\n",
    "processed_df.head()\n"
   ]
  },
  {
   "cell_type": "code",
   "execution_count": 138,
   "id": "80531c58",
   "metadata": {},
   "outputs": [
    {
     "data": {
      "text/html": [
       "<div>\n",
       "<style scoped>\n",
       "    .dataframe tbody tr th:only-of-type {\n",
       "        vertical-align: middle;\n",
       "    }\n",
       "\n",
       "    .dataframe tbody tr th {\n",
       "        vertical-align: top;\n",
       "    }\n",
       "\n",
       "    .dataframe thead th {\n",
       "        text-align: right;\n",
       "    }\n",
       "</style>\n",
       "<table border=\"1\" class=\"dataframe\">\n",
       "  <thead>\n",
       "    <tr style=\"text-align: right;\">\n",
       "      <th></th>\n",
       "      <th>DAY</th>\n",
       "      <th>5minInt</th>\n",
       "      <th>SIZE</th>\n",
       "      <th>PRICE</th>\n",
       "    </tr>\n",
       "  </thead>\n",
       "  <tbody>\n",
       "    <tr>\n",
       "      <th>0</th>\n",
       "      <td>2</td>\n",
       "      <td>0</td>\n",
       "      <td>271500</td>\n",
       "      <td>88.83</td>\n",
       "    </tr>\n",
       "    <tr>\n",
       "      <th>1</th>\n",
       "      <td>2</td>\n",
       "      <td>1</td>\n",
       "      <td>124500</td>\n",
       "      <td>88.56</td>\n",
       "    </tr>\n",
       "    <tr>\n",
       "      <th>2</th>\n",
       "      <td>2</td>\n",
       "      <td>2</td>\n",
       "      <td>96300</td>\n",
       "      <td>88.42</td>\n",
       "    </tr>\n",
       "    <tr>\n",
       "      <th>3</th>\n",
       "      <td>2</td>\n",
       "      <td>3</td>\n",
       "      <td>106200</td>\n",
       "      <td>88.40</td>\n",
       "    </tr>\n",
       "    <tr>\n",
       "      <th>4</th>\n",
       "      <td>2</td>\n",
       "      <td>4</td>\n",
       "      <td>105600</td>\n",
       "      <td>88.53</td>\n",
       "    </tr>\n",
       "    <tr>\n",
       "      <th>...</th>\n",
       "      <td>...</td>\n",
       "      <td>...</td>\n",
       "      <td>...</td>\n",
       "      <td>...</td>\n",
       "    </tr>\n",
       "    <tr>\n",
       "      <th>95</th>\n",
       "      <td>3</td>\n",
       "      <td>17</td>\n",
       "      <td>271800</td>\n",
       "      <td>83.96</td>\n",
       "    </tr>\n",
       "    <tr>\n",
       "      <th>96</th>\n",
       "      <td>3</td>\n",
       "      <td>18</td>\n",
       "      <td>181100</td>\n",
       "      <td>84.04</td>\n",
       "    </tr>\n",
       "    <tr>\n",
       "      <th>97</th>\n",
       "      <td>3</td>\n",
       "      <td>19</td>\n",
       "      <td>195800</td>\n",
       "      <td>84.04</td>\n",
       "    </tr>\n",
       "    <tr>\n",
       "      <th>98</th>\n",
       "      <td>3</td>\n",
       "      <td>20</td>\n",
       "      <td>154700</td>\n",
       "      <td>84.00</td>\n",
       "    </tr>\n",
       "    <tr>\n",
       "      <th>99</th>\n",
       "      <td>3</td>\n",
       "      <td>21</td>\n",
       "      <td>62500</td>\n",
       "      <td>84.00</td>\n",
       "    </tr>\n",
       "  </tbody>\n",
       "</table>\n",
       "<p>100 rows × 4 columns</p>\n",
       "</div>"
      ],
      "text/plain": [
       "    DAY  5minInt    SIZE  PRICE\n",
       "0     2        0  271500  88.83\n",
       "1     2        1  124500  88.56\n",
       "2     2        2   96300  88.42\n",
       "3     2        3  106200  88.40\n",
       "4     2        4  105600  88.53\n",
       "..  ...      ...     ...    ...\n",
       "95    3       17  271800  83.96\n",
       "96    3       18  181100  84.04\n",
       "97    3       19  195800  84.04\n",
       "98    3       20  154700  84.00\n",
       "99    3       21   62500  84.00\n",
       "\n",
       "[100 rows x 4 columns]"
      ]
     },
     "execution_count": 138,
     "metadata": {},
     "output_type": "execute_result"
    }
   ],
   "source": [
    "#lets print out this SIZE series, and realizing we have a multi-index need to convert back to timeseries\n",
    "processed_df.head()\n",
    "reset_df = processed_df.reset_index()\n",
    "reset_df.rename(columns = {'DAY': 'DAY', '5minInt': '5minInt', 0: \"VALS\"}, inplace=True)\n",
    "\n",
    "\n",
    "reset_df[[\"SIZE\",\"PRICE\"]] = pd.DataFrame(reset_df[\"VALS\"].tolist(), index = reset_df.index)\n",
    "reset_df.drop(columns = [\"VALS\"], inplace=True)\n",
    "reset_df.head(100)"
   ]
  },
  {
   "cell_type": "code",
   "execution_count": 139,
   "id": "aebeeac4",
   "metadata": {},
   "outputs": [
    {
     "data": {
      "text/plain": [
       "[<matplotlib.lines.Line2D at 0x7fbd55016bb0>]"
      ]
     },
     "execution_count": 139,
     "metadata": {},
     "output_type": "execute_result"
    },
    {
     "data": {
      "image/png": "[encoded data removed]",
      "text/plain": [
       "<Figure size 432x288 with 1 Axes>"
      ]
     },
     "metadata": {
      "needs_background": "light"
     },
     "output_type": "display_data"
    }
   ],
   "source": [
    "#Lets plot the time series and its ACF plot for the Volume of transactions in the 5 minute Intervals\n",
    "plt.plot(reset_df[\"SIZE\"])"
   ]
  },
  {
   "cell_type": "code",
   "execution_count": 141,
   "id": "6da44de2",
   "metadata": {},
   "outputs": [
    {
     "data": {
      "image/png": "[encoded data removed]",
      "text/plain": [
       "<Figure size 432x288 with 1 Axes>"
      ]
     },
     "execution_count": 141,
     "metadata": {},
     "output_type": "execute_result"
    },
    {
     "data": {
      "image/png": "[encoded data removed]",
      "text/plain": [
       "<Figure size 432x288 with 1 Axes>"
      ]
     },
     "metadata": {
      "needs_background": "light"
     },
     "output_type": "display_data"
    }
   ],
   "source": [
    "sm.graphics.tsa.plot_acf(reset_df[\"SIZE\"], lags=20)"
   ]
  },
  {
   "cell_type": "code",
   "execution_count": 142,
   "id": "3ac9c193",
   "metadata": {},
   "outputs": [
    {
     "data": {
      "text/plain": [
       "[<matplotlib.lines.Line2D at 0x7fbd56568e20>]"
      ]
     },
     "execution_count": 142,
     "metadata": {},
     "output_type": "execute_result"
    },
    {
     "data": {
      "image/png": "[encoded data removed]",
      "text/plain": [
       "<Figure size 432x288 with 1 Axes>"
      ]
     },
     "metadata": {
      "needs_background": "light"
     },
     "output_type": "display_data"
    }
   ],
   "source": [
    "plt.plot(reset_df[\"PRICE\"])"
   ]
  },
  {
   "cell_type": "code",
   "execution_count": 153,
   "id": "3c057fbb",
   "metadata": {},
   "outputs": [
    {
     "data": {
      "text/plain": [
       "[<matplotlib.lines.Line2D at 0x7fbd39233400>]"
      ]
     },
     "execution_count": 153,
     "metadata": {},
     "output_type": "execute_result"
    },
    {
     "data": {
      "image/png": "[encoded data removed]",
      "text/plain": [
       "<Figure size 432x288 with 1 Axes>"
      ]
     },
     "metadata": {
      "needs_background": "light"
     },
     "output_type": "display_data"
    }
   ],
   "source": [
    "#but in order to get returns, we need to difference the data\n",
    "returns = np.log((reset_df[\"PRICE\"] - reset_df[\"PRICE\"].shift())+1)\n",
    "plt.plot(returns)"
   ]
  },
  {
   "cell_type": "code",
   "execution_count": 154,
   "id": "1de6cd3e",
   "metadata": {},
   "outputs": [
    {
     "data": {
      "image/png": "[encoded data removed]",
      "text/plain": [
       "<Figure size 432x288 with 1 Axes>"
      ]
     },
     "execution_count": 154,
     "metadata": {},
     "output_type": "execute_result"
    },
    {
     "data": {
      "image/png": "[encoded data removed]",
      "text/plain": [
       "<Figure size 432x288 with 1 Axes>"
      ]
     },
     "metadata": {
      "needs_background": "light"
     },
     "output_type": "display_data"
    }
   ],
   "source": [
    "sm.graphics.tsa.plot_acf(returns.dropna(), lags=20)"
   ]
  },
  {
   "cell_type": "code",
   "execution_count": 155,
   "id": "da9a56f2",
   "metadata": {},
   "outputs": [
    {
     "data": {
      "text/plain": [
       "<matplotlib.collections.PathCollection at 0x7fbd56765ca0>"
      ]
     },
     "execution_count": 155,
     "metadata": {},
     "output_type": "execute_result"
    },
    {
     "data": {
      "image/png": "[encoded data removed]",
      "text/plain": [
       "<Figure size 432x288 with 1 Axes>"
      ]
     },
     "metadata": {
      "needs_background": "light"
     },
     "output_type": "display_data"
    }
   ],
   "source": [
    "#Now lets plot the series (volume, returns)\n",
    "plt.scatter(reset_df[\"SIZE\"], returns, alpha = 0.02)"
   ]
  },
  {
   "cell_type": "code",
   "execution_count": null,
   "id": "8e1fb95d",
   "metadata": {},
   "outputs": [],
   "source": []
  },
  {
   "cell_type": "code",
   "execution_count": null,
   "id": "9ff99e43",
   "metadata": {},
   "outputs": [],
   "source": [
    "#Now lets tabulate the relative frequencies of price changes in multiples of tick size $0.0625\n",
    "\n",
    "\n",
    "\n"
   ]
  }
 ],
 "metadata": {
  "kernelspec": {
   "display_name": "Python 3",
   "language": "python",
   "name": "python3"
  },
  "language_info": {
   "codemirror_mode": {
    "name": "ipython",
    "version": 3
   },
   "file_extension": ".py",
   "mimetype": "text/x-python",
   "name": "python",
   "nbconvert_exporter": "python",
   "pygments_lexer": "ipython3",
   "version": "3.8.8"
  }
 },
 "nbformat": 4,
 "nbformat_minor": 5
}
