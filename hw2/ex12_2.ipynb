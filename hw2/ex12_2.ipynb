{
 "cells": [
  {
   "cell_type": "code",
   "execution_count": 132,
   "id": "780438ec",
   "metadata": {},
   "outputs": [],
   "source": [
    "import arch\n",
    "import numpy as np\n",
    "import math\n",
    "import pandas as pd\n",
    "import matplotlib.pyplot as plt\n",
    "import statsmodels as sm\n",
    "from scipy.stats import t\n",
    "from scipy.stats import genextreme as gev"
   ]
  },
  {
   "cell_type": "code",
   "execution_count": 27,
   "id": "8f78b33f",
   "metadata": {},
   "outputs": [
    {
     "data": {
      "text/html": [
       "<div>\n",
       "<style scoped>\n",
       "    .dataframe tbody tr th:only-of-type {\n",
       "        vertical-align: middle;\n",
       "    }\n",
       "\n",
       "    .dataframe tbody tr th {\n",
       "        vertical-align: top;\n",
       "    }\n",
       "\n",
       "    .dataframe thead th {\n",
       "        text-align: right;\n",
       "    }\n",
       "</style>\n",
       "<table border=\"1\" class=\"dataframe\">\n",
       "  <thead>\n",
       "    <tr style=\"text-align: right;\">\n",
       "      <th></th>\n",
       "      <th>Date</th>\n",
       "      <th>logret</th>\n",
       "    </tr>\n",
       "  </thead>\n",
       "  <tbody>\n",
       "    <tr>\n",
       "      <th>0</th>\n",
       "      <td>7/10/1986</td>\n",
       "      <td>-0.024692</td>\n",
       "    </tr>\n",
       "    <tr>\n",
       "      <th>1</th>\n",
       "      <td>7/11/1986</td>\n",
       "      <td>-0.105360</td>\n",
       "    </tr>\n",
       "    <tr>\n",
       "      <th>2</th>\n",
       "      <td>7/14/1986</td>\n",
       "      <td>0.000000</td>\n",
       "    </tr>\n",
       "    <tr>\n",
       "      <th>3</th>\n",
       "      <td>7/15/1986</td>\n",
       "      <td>0.000000</td>\n",
       "    </tr>\n",
       "    <tr>\n",
       "      <th>4</th>\n",
       "      <td>7/16/1986</td>\n",
       "      <td>-0.028171</td>\n",
       "    </tr>\n",
       "    <tr>\n",
       "      <th>...</th>\n",
       "      <td>...</td>\n",
       "      <td>...</td>\n",
       "    </tr>\n",
       "    <tr>\n",
       "      <th>95</th>\n",
       "      <td>11/21/1986</td>\n",
       "      <td>0.025318</td>\n",
       "    </tr>\n",
       "    <tr>\n",
       "      <th>96</th>\n",
       "      <td>11/24/1986</td>\n",
       "      <td>0.024692</td>\n",
       "    </tr>\n",
       "    <tr>\n",
       "      <th>97</th>\n",
       "      <td>11/25/1986</td>\n",
       "      <td>0.024097</td>\n",
       "    </tr>\n",
       "    <tr>\n",
       "      <th>98</th>\n",
       "      <td>11/26/1986</td>\n",
       "      <td>0.023530</td>\n",
       "    </tr>\n",
       "    <tr>\n",
       "      <th>99</th>\n",
       "      <td>11/28/1986</td>\n",
       "      <td>0.022989</td>\n",
       "    </tr>\n",
       "  </tbody>\n",
       "</table>\n",
       "<p>100 rows × 2 columns</p>\n",
       "</div>"
      ],
      "text/plain": [
       "          Date    logret\n",
       "0    7/10/1986 -0.024692\n",
       "1    7/11/1986 -0.105360\n",
       "2    7/14/1986  0.000000\n",
       "3    7/15/1986  0.000000\n",
       "4    7/16/1986 -0.028171\n",
       "..         ...       ...\n",
       "95  11/21/1986  0.025318\n",
       "96  11/24/1986  0.024692\n",
       "97  11/25/1986  0.024097\n",
       "98  11/26/1986  0.023530\n",
       "99  11/28/1986  0.022989\n",
       "\n",
       "[100 rows x 2 columns]"
      ]
     },
     "execution_count": 27,
     "metadata": {},
     "output_type": "execute_result"
    }
   ],
   "source": [
    "df = pd.read_csv(\"/Users/quinnhollister/Downloads/intel_d_logret.txt\", delim_whitespace = True, header = None,\n",
    "           parse_dates = True)\n",
    "df.rename(columns = {0: \"Date\", 1: \"logret\"}, inplace = True)\n",
    "df.head(100)"
   ]
  },
  {
   "cell_type": "code",
   "execution_count": 12,
   "id": "bb6d57c3",
   "metadata": {},
   "outputs": [
    {
     "name": "stdout",
     "output_type": "stream",
     "text": [
      "0.0007683045589569133 0.000779885633947206\n"
     ]
    }
   ],
   "source": [
    "#For any VAR calculation using parametric models, lets calculate mean and std. deviation. \n",
    "#We'll also need to develop statistics to calculate other paramaters assuming the log-return distribution is of \n",
    "#a different family, i.e. GARCH, ARMA, GEV, etc...\n",
    "\n",
    "sample_mean = np.mean(df[\"logret\"])\n",
    "sample_var = np.var(df[\"logret\"])\n",
    "\n",
    "print(sample_mean, sample_var)"
   ]
  },
  {
   "cell_type": "markdown",
   "id": "d70df850",
   "metadata": {},
   "source": [
    "For part c, lets model the log returns as an ARMA(1,1)-GARCH(1,1) process with the residuals coming from the student t-distribution. So, our model looks like: \n",
    "\n",
    "$$r_{t} = \\phi_{0} + \\phi_{1} \\cdot r_{t-1} + u_{t} + \\psi_{1} \\cdot u_{t-1} $$\n",
    "\n",
    "\n",
    "$$\\sigma_{t}^{2} = \\omega + \\alpha_{1} \\cdot u_{t-1}^{2} + \\beta_{1} \\cdot \\sigma_{t-1}^{2} $$\n",
    "\n",
    "where $u_{t} = \\sigma_{t} \\epsilon_{t} $ and $\\epsilon_{t} \\sim t_{v}$\n",
    "Thus, the ARMA process models the conditional mean, and the GARCH process models the conditional variance present in the resdiuals of the ARMA estimation. Note: ARMA estimates are generally inconsistent, so this approach may contaminate the GARCH estimates. "
   ]
  },
  {
   "cell_type": "code",
   "execution_count": 29,
   "id": "05c18b4b",
   "metadata": {},
   "outputs": [
    {
     "name": "stderr",
     "output_type": "stream",
     "text": [
      "/Users/quinnhollister/opt/anaconda3/lib/python3.8/site-packages/statsmodels/tsa/statespace/sarimax.py:966: UserWarning: Non-stationary starting autoregressive parameters found. Using zeros as starting parameters.\n",
      "  warn('Non-stationary starting autoregressive parameters'\n",
      "/Users/quinnhollister/opt/anaconda3/lib/python3.8/site-packages/statsmodels/tsa/statespace/sarimax.py:978: UserWarning: Non-invertible starting MA parameters found. Using zeros as starting parameters.\n",
      "  warn('Non-invertible starting MA parameters found.'\n"
     ]
    },
    {
     "name": "stdout",
     "output_type": "stream",
     "text": [
      "                               SARIMAX Results                                \n",
      "==============================================================================\n",
      "Dep. Variable:                 logret   No. Observations:                 5292\n",
      "Model:                 ARIMA(1, 0, 1)   Log Likelihood               11427.115\n",
      "Date:                Tue, 09 Nov 2021   AIC                         -22846.229\n",
      "Time:                        11:42:58   BIC                         -22819.934\n",
      "Sample:                             0   HQIC                        -22837.040\n",
      "                               - 5292                                         \n",
      "Covariance Type:                  opg                                         \n",
      "==============================================================================\n",
      "                 coef    std err          z      P>|z|      [0.025      0.975]\n",
      "------------------------------------------------------------------------------\n",
      "const          0.0008      0.000      1.922      0.055    -1.5e-05       0.002\n",
      "ar.L1          0.0062      0.781      0.008      0.994      -1.525       1.538\n",
      "ma.L1          0.0062      0.782      0.008      0.994      -1.526       1.539\n",
      "sigma2         0.0008    7.5e-06    103.955      0.000       0.001       0.001\n",
      "===================================================================================\n",
      "Ljung-Box (L1) (Q):                   0.00   Jarque-Bera (JB):              9532.50\n",
      "Prob(Q):                              1.00   Prob(JB):                         0.00\n",
      "Heteroskedasticity (H):               0.98   Skew:                            -0.44\n",
      "Prob(H) (two-sided):                  0.60   Kurtosis:                         9.52\n",
      "===================================================================================\n",
      "\n",
      "Warnings:\n",
      "[1] Covariance matrix calculated using the outer product of gradients (complex-step).\n"
     ]
    }
   ],
   "source": [
    "#Technically the error terms are WN, i.e. gaussian?\n",
    "arma_model = sm.tsa.arima.model.ARIMA(df[\"logret\"], order = (1,0,1))\n",
    "res = arma_model.fit()\n",
    "print(res.summary())\n",
    "arma_residuals = res.resid"
   ]
  },
  {
   "cell_type": "code",
   "execution_count": 31,
   "id": "eba4fb34",
   "metadata": {},
   "outputs": [
    {
     "name": "stdout",
     "output_type": "stream",
     "text": [
      "Iteration:      1,   Func. Count:      7,   Neg. LLF: 300993.56410584296\n",
      "Iteration:      2,   Func. Count:     23,   Neg. LLF: 6448867.475267628\n",
      "Iteration:      3,   Func. Count:     39,   Neg. LLF: 29142.954200103683\n",
      "Iteration:      4,   Func. Count:     49,   Neg. LLF: 28908.623872559783\n",
      "Iteration:      5,   Func. Count:     56,   Neg. LLF: 15996.717887353032\n",
      "Iteration:      6,   Func. Count:     62,   Neg. LLF: 8440393.362285664\n",
      "Iteration:      7,   Func. Count:     71,   Neg. LLF: 11539.962043433605\n",
      "Iteration:      8,   Func. Count:     77,   Neg. LLF: 4425.602633615926\n",
      "Iteration:      9,   Func. Count:     83,   Neg. LLF: 9907.666222509128\n",
      "Iteration:     10,   Func. Count:     90,   Neg. LLF: 830.3782335694592\n",
      "Iteration:     11,   Func. Count:     97,   Neg. LLF: 225748.1418010156\n",
      "Iteration:     12,   Func. Count:    113,   Neg. LLF: 112911.17482360976\n",
      "Iteration:     13,   Func. Count:    119,   Neg. LLF: 558025.5083287237\n",
      "Iteration:     14,   Func. Count:    131,   Neg. LLF: 109529.34387759425\n",
      "Iteration:     15,   Func. Count:    137,   Neg. LLF: 108325.79849970224\n",
      "Iteration:     16,   Func. Count:    143,   Neg. LLF: 108245.91207422654\n",
      "Iteration:     17,   Func. Count:    150,   Neg. LLF: 105537.59623097541\n",
      "Iteration:     18,   Func. Count:    156,   Neg. LLF: 89268.04191433212\n",
      "Iteration:     19,   Func. Count:    162,   Neg. LLF: 122275.44947580367\n",
      "Iteration:     20,   Func. Count:    170,   Neg. LLF: 74577.38399786103\n",
      "Iteration:     21,   Func. Count:    177,   Neg. LLF: 99936.58388063867\n",
      "Iteration:     22,   Func. Count:    186,   Neg. LLF: 26999.343600442357\n",
      "Iteration:     23,   Func. Count:    194,   Neg. LLF: 18138.06999895518\n",
      "Iteration:     24,   Func. Count:    204,   Neg. LLF: 17249.182173440247\n",
      "Iteration:     25,   Func. Count:    212,   Neg. LLF: 277998.4880608452\n",
      "Iteration:     26,   Func. Count:    228,   Neg. LLF: 347040.92095384793\n",
      "Iteration:     27,   Func. Count:    241,   Neg. LLF: 13337.548368250766\n",
      "Iteration:     28,   Func. Count:    247,   Neg. LLF: 39904.10801306788\n",
      "Iteration:     29,   Func. Count:    255,   Neg. LLF: 10895.347325125626\n",
      "Iteration:     30,   Func. Count:    261,   Neg. LLF: 6187011.423651772\n",
      "Iteration:     31,   Func. Count:    272,   Neg. LLF: 108645.2796438406\n",
      "Iteration:     32,   Func. Count:    286,   Neg. LLF: 8069.582030109109\n",
      "Optimization terminated successfully    (Exit mode 0)\n",
      "            Current function value: 8069.5820242368045\n",
      "            Iterations: 36\n",
      "            Function evaluations: 286\n",
      "            Gradient evaluations: 32\n"
     ]
    },
    {
     "name": "stderr",
     "output_type": "stream",
     "text": [
      "/Users/quinnhollister/opt/anaconda3/lib/python3.8/site-packages/arch/univariate/base.py:309: DataScaleWarning: y is poorly scaled, which may affect convergence of the optimizer when\n",
      "estimating the model parameters. The scale of y is 0.0007798. Parameter\n",
      "estimation work better when this value is between 1 and 1000. The recommended\n",
      "rescaling is 100 * y.\n",
      "\n",
      "This warning can be disabled by either rescaling y before initializing the\n",
      "model or by setting rescale=False.\n",
      "\n",
      "  warnings.warn(\n"
     ]
    }
   ],
   "source": [
    "#Now lets fit the arma residuals to the GARCH process with t-student innovations\n",
    "archm = arch.arch_model(arma_residuals, p =1, q = 1, dist = 'StudentsT')\n",
    "arch_model_fitted = archm.fit()"
   ]
  },
  {
   "cell_type": "code",
   "execution_count": 44,
   "id": "636e3ce5",
   "metadata": {},
   "outputs": [
    {
     "data": {
      "text/plain": [
       "                        Constant Mean - GARCH Model Results                         \n",
       "====================================================================================\n",
       "Dep. Variable:                         None   R-squared:                       0.000\n",
       "Mean Model:                   Constant Mean   Adj. R-squared:                  0.000\n",
       "Vol Model:                            GARCH   Log-Likelihood:               -8069.58\n",
       "Distribution:      Standardized Student's t   AIC:                           16149.2\n",
       "Method:                  Maximum Likelihood   BIC:                           16182.0\n",
       "                                              No. Observations:                 5292\n",
       "Date:                      Tue, Nov 09 2021   Df Residuals:                     5291\n",
       "Time:                              11:44:34   Df Model:                            1\n",
       "                                 Mean Model                                 \n",
       "============================================================================\n",
       "                 coef    std err          t      P>|t|      95.0% Conf. Int.\n",
       "----------------------------------------------------------------------------\n",
       "mu             0.0444  5.154e-05    862.472      0.000 [4.435e-02,4.455e-02]\n",
       "                               Volatility Model                              \n",
       "=============================================================================\n",
       "                 coef    std err          t      P>|t|       95.0% Conf. Int.\n",
       "-----------------------------------------------------------------------------\n",
       "omega      7.4755e-03  1.526e-06   4899.144      0.000  [7.472e-03,7.478e-03]\n",
       "alpha[1]   5.7763e-04  6.602e-04      0.875      0.382 [-7.163e-04,1.872e-03]\n",
       "beta[1]        0.9990  8.935e-06  1.118e+05      0.000      [  0.999,  0.999]\n",
       "                              Distribution                              \n",
       "========================================================================\n",
       "                 coef    std err          t      P>|t|  95.0% Conf. Int.\n",
       "------------------------------------------------------------------------\n",
       "nu             4.5431  8.174e-04   5558.341      0.000 [  4.542,  4.545]\n",
       "========================================================================\n",
       "\n",
       "Covariance estimator: robust\n",
       "ARCHModelResult, id: 0x7fa591125070"
      ]
     },
     "execution_count": 44,
     "metadata": {},
     "output_type": "execute_result"
    }
   ],
   "source": [
    "arch_model_fitted"
   ]
  },
  {
   "cell_type": "code",
   "execution_count": 52,
   "id": "8a2ec464",
   "metadata": {},
   "outputs": [
    {
     "name": "stdout",
     "output_type": "stream",
     "text": [
      "0.04444825542857589\n"
     ]
    }
   ],
   "source": [
    "#need to extract out the df for the student-t error:\n",
    "nu = arch_model_fitted.optimization_result.x[-1]\n",
    "mu = arch_model_fitted.optimization_result.x[0]\n",
    "print(mu)"
   ]
  },
  {
   "cell_type": "markdown",
   "id": "fba98636",
   "metadata": {},
   "source": [
    "Now that we have our model fitted, we can forecast for k-steps ahead in order to get the VAR calculations. Let's begin with the 1-day calculation. \n",
    "\n",
    "$$ \\hat{r}_{t+1|t} = \\phi_{0} + \\phi_{1}r_{t} + \\psi_{1}u_{t} $$ \n",
    "$$ \\hat{\\sigma}_{t+1|t}^{2} = \\omega + \\alpha_{1}u_{t}^{2} + \\beta_{1}\\sigma_{t}^{2} $$\n",
    "\n",
    "However, from our model fitting, we have values for $u_{t}, \\phi_{0}, \\phi_{1}, \\psi_{1}, \\alpha_{1}, \\beta_{1}, \\sigma_{t}$. Thus, we can \"plug-in\" our estimates and calculate the 99% 1-day VAR estimates by using:\n",
    "\n",
    "$$ \\hat{r}_{t+1|t} - \\hat{\\sigma}_{t+1|t} \\cdot z_{1-\\alpha} $$ \n",
    "\n",
    "where $z_{1-\\alpha}(\\nu)$ is just the inverse CDF value of the 0.01 quantile of the standardized-t distribution with parameters found in the arch fitting. "
   ]
  },
  {
   "cell_type": "code",
   "execution_count": 127,
   "id": "31f6f67e",
   "metadata": {},
   "outputs": [
    {
     "name": "stdout",
     "output_type": "stream",
     "text": [
      "99% one day VAR for a portfolio of $1 Million:  $155035.64\n"
     ]
    }
   ],
   "source": [
    "#Now lets forecast the next-1 period mean and variance so as to get 99% 1-day VAR\n",
    "ALPHA = 0.99\n",
    "\n",
    "\n",
    "mu_pred_1 = res.forecast().item()\n",
    "et_pred_1 = arch_model_fitted.forecast(horizon=1).mean['h.1'].iloc[-1]\n",
    "z = t.ppf(1-ALPHA, df = nu)\n",
    "\n",
    "oneVAR = mu_pred_1 + et_pred_1*z\n",
    "print(\"99% one day VAR for a portfolio of $1 Million:  $\" + str(round(abs(oneVAR)*1000000, 2)))"
   ]
  },
  {
   "cell_type": "markdown",
   "id": "b6bb0ca8",
   "metadata": {},
   "source": [
    "We know that $\\hat{\\sigma}_{t+k|t}^2 = \\sum_{i=1}^{k}{\\psi_{k-i}^{2} E[\\sigma_{t+i}^{t} | F_{t}]} $ \n"
   ]
  },
  {
   "cell_type": "code",
   "execution_count": null,
   "id": "e7692b82",
   "metadata": {},
   "outputs": [],
   "source": []
  },
  {
   "cell_type": "code",
   "execution_count": 93,
   "id": "4e958dc3",
   "metadata": {},
   "outputs": [
    {
     "name": "stdout",
     "output_type": "stream",
     "text": [
      "           h.1\n",
      "0          NaN\n",
      "1          NaN\n",
      "2          NaN\n",
      "3          NaN\n",
      "4          NaN\n",
      "...        ...\n",
      "5287       NaN\n",
      "5288       NaN\n",
      "5289       NaN\n",
      "5290       NaN\n",
      "5291  0.044448\n",
      "\n",
      "[5292 rows x 1 columns]\n"
     ]
    },
    {
     "name": "stderr",
     "output_type": "stream",
     "text": [
      "/Users/quinnhollister/opt/anaconda3/lib/python3.8/site-packages/arch/__future__/_utility.py:11: FutureWarning: \n",
      "The default for reindex is True. After September 2021 this will change to\n",
      "False. Set reindex to True or False to silence this message. Alternatively,\n",
      "you can use the import comment\n",
      "\n",
      "from arch.__future__ import reindexing\n",
      "\n",
      "to globally set reindex to True and silence this warning.\n",
      "\n",
      "  warnings.warn(\n"
     ]
    }
   ],
   "source": [
    "INDEX = 5301 #corresponds to 10th step ahead forecast\n",
    "\n",
    "\n",
    "\n",
    "mu_pred_10 = res.get_forecast(steps=10).predicted_mean[INDEX]\n",
    "et_pred_10"
   ]
  },
  {
   "cell_type": "markdown",
   "id": "11717207",
   "metadata": {},
   "source": [
    "Now, we'll recalculate these VAR quanities but instead using the GEV distribution with a subperiod length of 20 trading days. "
   ]
  },
  {
   "cell_type": "code",
   "execution_count": 100,
   "id": "9b3d7db8",
   "metadata": {},
   "outputs": [],
   "source": [
    "#First, let's split our data into subsamples with width of 20 days, and selecting the \n",
    "#minimum values from these samples\n",
    "PER_LENGTH = 20\n",
    "PERIODS = int(len(df)/PER_LENGTH)\n",
    "\n",
    "subperiod = []\n",
    "for i in range(0, PERIODS):\n",
    "    sub = df['logret'].take([i*20, (i+1)*20])\n",
    "    subperiod.append(min(sub))\n",
    "    \n",
    "#We possibly didn't include some of the values at the end of our data\n",
    "if len(df) % PER_LENGTH != 0:\n",
    "    lastPer = df['logret'].take([PER_LENGTH*PERIODS, -1])\n",
    "    subperiod.append(min(lastPer))\n"
   ]
  },
  {
   "cell_type": "code",
   "execution_count": 128,
   "id": "3dccf11d",
   "metadata": {},
   "outputs": [
    {
     "name": "stdout",
     "output_type": "stream",
     "text": [
      "Minimum Value in Whole Data: -0.164301953\n",
      "Shape: 0.49251829127051816\n",
      "Loc: -0.023796742549085637\n",
      "Scale: 0.02989782912918367\n"
     ]
    },
    {
     "data": {
      "text/plain": [
       "[<matplotlib.lines.Line2D at 0x7fa5604e7700>]"
      ]
     },
     "execution_count": 128,
     "metadata": {},
     "output_type": "execute_result"
    },
    {
     "data": {
      "image/png": "[encoded data removed]",
      "text/plain": [
       "<Figure size 432x288 with 1 Axes>"
      ]
     },
     "metadata": {
      "needs_background": "light"
     },
     "output_type": "display_data"
    }
   ],
   "source": [
    "#now lets fit this data to a GEV distribution\n",
    "\n",
    "plt.hist(subperiod, bins = 50, alpha = 0.5)\n",
    "\n",
    "print(\"Minimum Value in Whole Data: \" + str(min(subperiod)))\n",
    "\n",
    "#need to specify good inital location, otherwise might be zero and that leads to bad fit.\n",
    "params = gev.fit(subperiod, loc = 0.05)\n",
    "\n",
    "\n",
    "print(\"Shape: \" + str(params[0]))\n",
    "print(\"Loc: \" + str(params[1]))\n",
    "print(\"Scale: \" + str(params[2]))\n",
    "\n",
    "\n",
    "\n",
    "shape = params[0]\n",
    "loc = params[1]\n",
    "scale = params[2]\n",
    "\n",
    "xx = np.linspace(min(subperiod)-0.01, 0.05, 500)\n",
    "plt.plot(xx, gev.pdf(xx, *params))"
   ]
  },
  {
   "cell_type": "markdown",
   "id": "0993e175",
   "metadata": {},
   "source": [
    "From https://citeseerx.ist.psu.edu/viewdoc/download?doi=10.1.1.596.39&rep=rep1&type=pdf, we can see that given our shape, location, and scale parameters $\\xi_{n}, \\beta_{n}, \\alpha_{n}$, we can write our 1-Day VAR formula as: \n",
    "\n",
    "$$ VaR = \\beta_{n} - \\frac{\\alpha_{n}}{\\xi_{n}} \\{ 1 - [-n \\cdot ln(1-p)]^{-\\xi_{n}} \\} $$\n",
    "\n",
    "And, n is the length of the sub-period, so for us, n = 20"
   ]
  },
  {
   "cell_type": "code",
   "execution_count": 140,
   "id": "06642555",
   "metadata": {},
   "outputs": [
    {
     "name": "stdout",
     "output_type": "stream",
     "text": [
      "99% one day VAR for a portfolio of $1 Million with GEV:  $77957.76\n"
     ]
    }
   ],
   "source": [
    "gevOneVar = loc\n",
    "gevOneVar -= (scale/shape)*(1 - (-1*PER_LENGTH*math.log(1-ALPHA))**(-1*shape))\n",
    "print(\"99% one day VAR for a portfolio of $1 Million with GEV:  $\" + str(round(abs(gevOneVar)*1000000, 2)))"
   ]
  }
 ],
 "metadata": {
  "kernelspec": {
   "display_name": "Python 3",
   "language": "python",
   "name": "python3"
  },
  "language_info": {
   "codemirror_mode": {
    "name": "ipython",
    "version": 3
   },
   "file_extension": ".py",
   "mimetype": "text/x-python",
   "name": "python",
   "nbconvert_exporter": "python",
   "pygments_lexer": "ipython3",
   "version": "3.8.8"
  }
 },
 "nbformat": 4,
 "nbformat_minor": 5
}
